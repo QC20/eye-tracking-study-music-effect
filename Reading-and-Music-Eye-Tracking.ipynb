{
  "nbformat": 4,
  "nbformat_minor": 0,
  "metadata": {
    "colab": {
      "provenance": []
    },
    "kernelspec": {
      "display_name": "Python 3",
      "name": "python3"
    }
  },
  "cells": [
    {
      "cell_type": "code",
      "metadata": {
        "id": "OjSXAwQMw12c",
        "colab": {
          "base_uri": "https://localhost:8080/"
        },
        "outputId": "acbbd8b1-064a-4c73-ba0d-ba3010894e15"
      },
      "source": [
        "import pandas as pd\n",
        "import os\n",
        "import numpy as np\n",
        "import re\n",
        "from sklearn import preprocessing\n",
        "import statsmodels.api as sm\n",
        "from statsmodels.formula.api import ols\n",
        "import pdb"
      ],
      "execution_count": null,
      "outputs": [
        {
          "output_type": "stream",
          "text": [
            "/usr/local/lib/python3.6/dist-packages/statsmodels/tools/_testing.py:19: FutureWarning: pandas.util.testing is deprecated. Use the functions in the public API at pandas.testing instead.\n",
            "  import pandas.util.testing as tm\n"
          ],
          "name": "stderr"
        }
      ]
    },
    {
      "cell_type": "code",
      "metadata": {
        "colab": {
          "base_uri": "https://localhost:8080/"
        },
        "id": "wAXx2cJAw4Jv",
        "outputId": "3e6d0749-ded0-4766-dfa8-fcb4f7488bde"
      },
      "source": [
        "from google.colab import drive\n",
        "drive.mount('/content/drive')"
      ],
      "execution_count": null,
      "outputs": [
        {
          "output_type": "stream",
          "text": [
            "Drive already mounted at /content/drive; to attempt to forcibly remount, call drive.mount(\"/content/drive\", force_remount=True).\n"
          ],
          "name": "stdout"
        }
      ]
    },
    {
      "cell_type": "code",
      "metadata": {
        "id": "auLnph2Ow6Gc"
      },
      "source": [
        "org_path='/content/drive/MyDrive/Eye-tracking study/Data/Gaze data/v2/'\n",
        "tsv_files=os.listdir(org_path)\n",
        "import_path=\"/content/drive/MyDrive/Eye-tracking study/Experimental Setup/Sequences/Import.tsv\"\n",
        "sequence_path=\"/content/drive/MyDrive/Eye-tracking study/Experimental Setup/Sequences/Sequences - Combined.csv\"\n",
        "import_df = pd.read_csv(import_path,delimiter=\"\\t\",low_memory=False)\n",
        "sequence_df = pd.read_csv(sequence_path,low_memory=False)\n",
        "\n"
      ],
      "execution_count": null,
      "outputs": []
    },
    {
      "cell_type": "code",
      "metadata": {
        "id": "QL-j4M-vyWYS"
      },
      "source": [
        "def get_text_in_order(df):\n",
        "  texts_gaze=[]\n",
        "  i=0\n",
        "  for media_name in set(list(df.MediaName)):\n",
        "    try:\n",
        "\n",
        "      if media_name[0]=='T':\n",
        "\n",
        "        first_gaze=df[df[\"MediaName\"]==media_name][\"GazePointIndex\"].iloc[1]\n",
        "        texts_gaze.append((media_name,int(first_gaze)))\n",
        "\n",
        "    except:\n",
        "      print(\"ERRROR WITH: \"+str(media_name))\n",
        "  return sorted(texts_gaze, key=lambda x:x[1])\n"
      ],
      "execution_count": null,
      "outputs": []
    },
    {
      "cell_type": "code",
      "metadata": {
        "id": "ubwkgkfCFuDQ"
      },
      "source": [
        "#data = pd.read_csv(org_path+tsv_files[0],delimiter=\"\\t\",low_memory=False)\n",
        "#texts=get_text_in_order(data)"
      ],
      "execution_count": null,
      "outputs": []
    },
    {
      "cell_type": "code",
      "metadata": {
        "id": "IYXL9sgRhHhf"
      },
      "source": [
        "def arousalApply(mediaName,texts,arousal_level,arousal_org):\n",
        "    if mediaName in texts:\n",
        "        return arousal_level\n",
        "    else:\n",
        "        return arousal_org\n",
        "def add_arousal_column(df,texts,arousal_sequence):\n",
        "  texts=[text[0] for text in texts]\n",
        "  print(texts)\n",
        "  print(arousal_sequence)\n",
        "  df[\"arousal\"]=np.nan\n",
        "  df[\"arousal\"] = df.apply(lambda x: arousalApply(x['MediaName'], texts[0:8], arousal_sequence[0],x['arousal']), axis=1)\n",
        "  df[\"arousal\"] = df.apply(lambda x: arousalApply(x['MediaName'], texts[8:16], arousal_sequence[1],x['arousal']), axis=1)\n",
        "  df[\"arousal\"] = df.apply(lambda x: arousalApply(x['MediaName'], texts[16:24], arousal_sequence[2],x['arousal']), axis=1)\n",
        "  return df"
      ],
      "execution_count": null,
      "outputs": []
    },
    {
      "cell_type": "code",
      "metadata": {
        "id": "Wjeyay_FGTVt"
      },
      "source": [
        "#data=add_arousal_column(data,texts,\"LHM\")"
      ],
      "execution_count": null,
      "outputs": []
    },
    {
      "cell_type": "code",
      "metadata": {
        "id": "tvN1EdhWGlkR"
      },
      "source": [
        "#names=[text[0] for text in texts]\n",
        "#data[data['MediaName'].isin(names[:7])].head()"
      ],
      "execution_count": null,
      "outputs": []
    },
    {
      "cell_type": "code",
      "metadata": {
        "id": "MK3Sbr48n0X6"
      },
      "source": [
        "def makeAOIColumn(df):\n",
        "  df[\"aoi\"]=np.nan\n",
        "  for col in df.columns:\n",
        "    match=re.match(\".*Rectangle \\d+\",col)\n",
        "    if match:\n",
        "      aoiname=col.split(\".\")[0]\n",
        "      df.loc[df[col] == 1, 'aoi'] = aoiname\n",
        "  return df\n"
      ],
      "execution_count": null,
      "outputs": []
    },
    {
      "cell_type": "code",
      "metadata": {
        "id": "FQkSAhrVH7H4"
      },
      "source": [
        "#data=makeAOIColumn(data)\n",
        "#data=data.dropna(subset = [\"aoi\"], inplace=False)\n",
        "#data[data['MediaName'].isin(names[:7])].head()"
      ],
      "execution_count": null,
      "outputs": []
    },
    {
      "cell_type": "code",
      "metadata": {
        "id": "nk1G2Uzkn63Q"
      },
      "source": [
        "def processMeanFixiationDuration(df):\n",
        "  #First drop duplicates\n",
        "  df=df.dropna(subset = [\"aoi\"], inplace=False)\n",
        "  #Lets get only Fixiation gaze event types\n",
        "  df=df[df[\"GazeEventType\"]==\"Fixation\"][[\"arousal\",\"aoi\",\\\n",
        "                                                \"GazeEventDuration\",\"GazeEventType\"\\\n",
        "                                                ,\"ParticipantName\",\"FixationIndex\",\\\n",
        "                                                \"MediaName\"]].drop_duplicates(subset=[\"FixationIndex\"])\n",
        "  #Scale gaze event duration to 0 mean, min = 0, and max = 1\n",
        "  df[\"ZeroMeanGazeDuration\"]=df[\"GazeEventDuration\"]-df[\"GazeEventDuration\"].mean()\n",
        "  min_max_scaler = preprocessing.RobustScaler()\n",
        "  x_scaled = min_max_scaler.fit_transform(np.array([df[\"ZeroMeanGazeDuration\"].to_list()]).reshape([-1,1]))\n",
        "  df[\"NormalizedGazeDuration\"]=x_scaled\n",
        "  #Get the mean value of the normalized fixiation event per AOI\n",
        "  temporal_df=df.groupby([\"aoi\",\"MediaName\"],as_index=False)[\"NormalizedGazeDuration\"].mean()\n",
        "  merged_inner = pd.merge(left=temporal_df, right=df, left_on=[\"aoi\",\"MediaName\"], right_on=[\"aoi\",\"MediaName\"])\n",
        "  #End of analisis of one user\n",
        "  return merged_inner\n"
      ],
      "execution_count": null,
      "outputs": []
    },
    {
      "cell_type": "code",
      "metadata": {
        "id": "zp-zvpBIKdQX"
      },
      "source": [
        "def processMeanFixiationDuration(df):\n",
        "  #First drop duplicates\n",
        "  df=df.dropna(subset = [\"aoi\"], inplace=False)\n",
        "  #Lets get only Fixiation gaze event types\n",
        "  df=df[df[\"GazeEventType\"]==\"Fixation\"][[\"arousal\",\"aoi\",\\\n",
        "                                                \"GazeEventDuration\",\"GazeEventType\"\\\n",
        "                                                ,\"ParticipantName\",\"FixationIndex\",\\\n",
        "                                                \"MediaName\"]].drop_duplicates(subset=[\"FixationIndex\"])\n",
        "  df=df[df[\"GazeEventDuration\"]<350]\n",
        "  #Scale gaze event duration to 0 mean, min = 0, and max = 1\n",
        "  df[\"ZeroMeanGazeDuration\"]=df[\"GazeEventDuration\"]-df[\"GazeEventDuration\"].mean()\n",
        "  min_max_scaler = preprocessing.MinMaxScaler()\n",
        "  #pdb.set_trace()\n",
        "\n",
        "  x_scaled = min_max_scaler.fit_transform(np.array([df[\"ZeroMeanGazeDuration\"].to_list()]).reshape([-1,1]))\n",
        "  df[\"NormalizedGazeDuration\"]=x_scaled\n",
        "  #Get the mean value of the normalized fixiation event per AOI\n",
        "\n",
        "  temporal_df=df.groupby([\"aoi\",\"MediaName\"],as_index=False)[\"NormalizedGazeDuration\"].mean()\n",
        "  merged_inner = pd.merge(left=temporal_df, right=df, left_on=[\"aoi\",\"MediaName\"], right_on=[\"aoi\",\"MediaName\"])\n",
        "  countdf=merged_inner.groupby(['aoi','MediaName']).aoi.agg('count').to_frame('count').reset_index()\n",
        "  merged_inner = pd.merge(left=countdf, right=merged_inner, left_on=[\"aoi\",\"MediaName\"], right_on=[\"aoi\",\"MediaName\"])\n",
        "  #merged_inner[\"ZeroMeanCount\"]=merged_inner[\"count\"]-merged_inner[\"count\"].mean()\n",
        "\n",
        "  return merged_inner"
      ],
      "execution_count": null,
      "outputs": []
    },
    {
      "cell_type": "code",
      "metadata": {
        "id": "QQ2lFt8IpEKF"
      },
      "source": [
        "def processSingleParticipant(df):\n",
        "  texts = get_text_in_order(df)\n",
        "  ParticipantName = df[\"ParticipantName\"].iloc[0]\n",
        "  arousal_sequence=sequence_df[sequence_df[\"Participant\"]==ParticipantName][\"Audio sequence\"].iloc[0]\n",
        "  df = add_arousal_column(df,texts,arousal_sequence)\n",
        "  df = makeAOIColumn(df)\n",
        "  df = processMeanFixiationDuration(df)\n",
        "  return df"
      ],
      "execution_count": null,
      "outputs": []
    },
    {
      "cell_type": "code",
      "metadata": {
        "colab": {
          "base_uri": "https://localhost:8080/"
        },
        "id": "Kegg6gjB33t4",
        "outputId": "b5a3226d-8cd0-4bdf-fa1e-b184d3019128"
      },
      "source": [
        "participant_dfs=[]\n",
        "for participant in tsv_files:\n",
        "  data = pd.read_csv(org_path+participant,delimiter=\"\\t\",low_memory=False)\n",
        "  data = processSingleParticipant(data)\n",
        "  participant_dfs.append(data)"
      ],
      "execution_count": null,
      "outputs": [
        {
          "output_type": "stream",
          "text": [
            "ERRROR WITH: nan\n",
            "['Text-1.png', 'Text-14.png', 'Text-19.png', 'Text-11.png', 'Text-22.png', 'Text-25.png', 'Text-10.png', 'Text-6.png', 'Text-21.png', 'Text-24.png', 'Text-16.png', 'Text-23.png', 'Text-7.png', 'Text-4.png', 'Text-13.png', 'Text-26.png', 'Text-3.png', 'Text-27.png', 'Text-18.png', 'Text-12.png', 'Text-9.png', 'Text-30.png', 'Text-8.png', 'Text-5.png']\n",
            "LHM\n",
            "ERRROR WITH: nan\n",
            "['Text-3.png', 'Text-19.png', 'Text-12.png', 'Text-18.png', 'Text-9.png', 'Text-7.png', 'Text-20.png', 'Text-11.png', 'Text-4.png', 'Text-6.png', 'Text-14.png', 'Text-13.png', 'Text-21.png', 'Text-10.png', 'Text-24.png', 'Text-16.png', 'Text-17.png', 'Text-23.png', 'Text-1.png', 'Text-15.png', 'Text-8.png', 'Text-5.png', 'Text-2.png', 'Text-22.png']\n",
            "LMH\n",
            "ERRROR WITH: nan\n",
            "['Text-18.png', 'Text-7.png', 'Text-5.png', 'Text-1.png', 'Text-16.png', 'Text-19.png', 'Text-17.png', 'Text-20.png', 'Text-21.png', 'Text-13.png', 'Text-4.png', 'Text-10.png', 'Text-14.png', 'Text-11.png', 'Text-9.png', 'Text-23.png', 'Text-12.png', 'Text-6.png', 'Text-3.png', 'Text-2.png', 'Text-24.png', 'Text-22.png', 'Text-15.png', 'Text-8.png']\n",
            "HML\n",
            "ERRROR WITH: nan\n",
            "['Text-6.png', 'Text-15.png', 'Text-4.png', 'Text-23.png', 'Text-24.png', 'Text-16.png', 'Text-12.png', 'Text-2.png', 'Text-13.png', 'Text-10.png', 'Text-7.png', 'Text-9.png', 'Text-17.png', 'Text-20.png', 'Text-5.png', 'Text-18.png', 'Text-3.png', 'Text-19.png', 'Text-21.png', 'Text-1.png', 'Text-22.png', 'Text-14.png', 'Text-11.png', 'Text-8.png']\n",
            "MHL\n",
            "ERRROR WITH: nan\n",
            "['Text-13.png', 'Text-7.png', 'Text-4.png', 'Text-11.png', 'Text-2.png', 'Text-3.png', 'Text-18.png', 'Text-14.png', 'Text-22.png', 'Text-8.png', 'Text-9.png', 'Text-15.png', 'Text-6.png', 'Text-16.png', 'Text-10.png', 'Text-19.png', 'Text-12.png', 'Text-17.png', 'Text-1.png', 'Text-24.png', 'Text-23.png', 'Text-5.png', 'Text-21.png', 'Text-20.png']\n",
            "MLH\n",
            "ERRROR WITH: nan\n",
            "['Text-10.png', 'Text-6.png', 'Text-17.png', 'Text-15.png', 'Text-8.png', 'Text-9.png', 'Text-1.png', 'Text-26.png', 'Text-19.png', 'Text-7.png', 'Text-30.png', 'Text-2.png', 'Text-25.png', 'Text-21.png', 'Text-22.png', 'Text-12.png', 'Text-28.png', 'Text-14.png', 'Text-27.png', 'Text-13.png', 'Text-23.png', 'Text-5.png', 'Text-11.png', 'Text-16.png']\n",
            "MLH\n",
            "ERRROR WITH: nan\n",
            "['Text-10.png', 'Text-6.png', 'Text-17.png', 'Text-15.png', 'Text-8.png', 'Text-9.png', 'Text-1.png', 'Text-26.png', 'Text-19.png', 'Text-7.png', 'Text-30.png', 'Text-2.png', 'Text-25.png', 'Text-21.png', 'Text-22.png', 'Text-12.png', 'Text-28.png', 'Text-14.png', 'Text-27.png', 'Text-13.png', 'Text-23.png', 'Text-5.png', 'Text-11.png', 'Text-16.png']\n",
            "HML\n",
            "ERRROR WITH: nan\n",
            "['Text-6.png', 'Text-15.png', 'Text-4.png', 'Text-23.png', 'Text-24.png', 'Text-16.png', 'Text-12.png', 'Text-2.png', 'Text-13.png', 'Text-10.png', 'Text-7.png', 'Text-9.png', 'Text-17.png', 'Text-20.png', 'Text-5.png', 'Text-18.png', 'Text-3.png', 'Text-19.png', 'Text-21.png', 'Text-1.png', 'Text-22.png', 'Text-14.png', 'Text-11.png', 'Text-8.png']\n",
            "MLH\n",
            "ERRROR WITH: nan\n",
            "['Text-16.png', 'Text-2.png', 'Text-24.png', 'Text-6.png', 'Text-11.png', 'Text-14.png', 'Text-9.png', 'Text-1.png', 'Text-8.png', 'Text-4.png', 'Text-21.png', 'Text-23.png', 'Text-15.png', 'Text-12.png', 'Text-5.png', 'Text-22.png', 'Text-7.png', 'Text-18.png', 'Text-3.png', 'Text-10.png', 'Text-19.png', 'Text-20.png', 'Text-17.png', 'Text-13.png']\n",
            "MLH\n",
            "ERRROR WITH: nan\n",
            "['Text-1.png', 'Text-14.png', 'Text-19.png', 'Text-11.png', 'Text-22.png', 'Text-25.png', 'Text-10.png', 'Text-6.png', 'Text-21.png', 'Text-24.png', 'Text-16.png', 'Text-23.png', 'Text-7.png', 'Text-4.png', 'Text-13.png', 'Text-26.png', 'Text-3.png', 'Text-27.png', 'Text-18.png', 'Text-12.png', 'Text-9.png', 'Text-30.png', 'Text-8.png', 'Text-5.png']\n",
            "HLM\n",
            "ERRROR WITH: nan\n",
            "['Text-10.png', 'Text-6.png', 'Text-17.png', 'Text-15.png', 'Text-8.png', 'Text-9.png', 'Text-1.png', 'Text-26.png', 'Text-19.png', 'Text-7.png', 'Text-30.png', 'Text-2.png', 'Text-25.png', 'Text-21.png', 'Text-22.png', 'Text-12.png', 'Text-28.png', 'Text-14.png', 'Text-27.png', 'Text-13.png', 'Text-23.png', 'Text-5.png', 'Text-11.png', 'Text-16.png']\n",
            "HLM\n",
            "ERRROR WITH: nan\n",
            "['Text-3.png', 'Text-19.png', 'Text-12.png', 'Text-18.png', 'Text-9.png', 'Text-7.png', 'Text-20.png', 'Text-11.png', 'Text-4.png', 'Text-6.png', 'Text-14.png', 'Text-13.png', 'Text-21.png', 'Text-10.png', 'Text-24.png', 'Text-16.png', 'Text-17.png', 'Text-23.png', 'Text-1.png', 'Text-15.png', 'Text-8.png', 'Text-5.png', 'Text-2.png', 'Text-22.png']\n",
            "LHM\n",
            "ERRROR WITH: nan\n",
            "['Text-5.png', 'Text-10.png', 'Text-17.png', 'Text-11.png', 'Text-22.png', 'Text-18.png', 'Text-3.png', 'Text-7.png', 'Text-23.png', 'Text-4.png', 'Text-1.png', 'Text-8.png', 'Text-21.png', 'Text-9.png', 'Text-20.png', 'Text-14.png', 'Text-16.png', 'Text-12.png', 'Text-19.png', 'Text-6.png', 'Text-24.png', 'Text-15.png', 'Text-13.png', 'Text-2.png']\n",
            "MHL\n",
            "ERRROR WITH: nan\n",
            "['Text-5.png', 'Text-10.png', 'Text-17.png', 'Text-11.png', 'Text-22.png', 'Text-18.png', 'Text-3.png', 'Text-7.png', 'Text-23.png', 'Text-4.png', 'Text-1.png', 'Text-8.png', 'Text-21.png', 'Text-9.png', 'Text-20.png', 'Text-14.png', 'Text-16.png', 'Text-12.png', 'Text-19.png', 'Text-6.png', 'Text-24.png', 'Text-15.png', 'Text-13.png', 'Text-2.png']\n",
            "LHM\n",
            "ERRROR WITH: nan\n",
            "['Text-13.png', 'Text-7.png', 'Text-4.png', 'Text-11.png', 'Text-2.png', 'Text-3.png', 'Text-18.png', 'Text-14.png', 'Text-22.png', 'Text-8.png', 'Text-9.png', 'Text-15.png', 'Text-6.png', 'Text-16.png', 'Text-10.png', 'Text-19.png', 'Text-12.png', 'Text-17.png', 'Text-1.png', 'Text-24.png', 'Text-23.png', 'Text-5.png', 'Text-21.png', 'Text-20.png']\n",
            "LHM\n",
            "ERRROR WITH: nan\n",
            "['Text-18.png', 'Text-7.png', 'Text-5.png', 'Text-1.png', 'Text-16.png', 'Text-19.png', 'Text-17.png', 'Text-20.png', 'Text-21.png', 'Text-13.png', 'Text-4.png', 'Text-10.png', 'Text-14.png', 'Text-11.png', 'Text-9.png', 'Text-23.png', 'Text-12.png', 'Text-6.png', 'Text-3.png', 'Text-2.png', 'Text-24.png', 'Text-22.png', 'Text-15.png', 'Text-8.png']\n",
            "LHM\n"
          ],
          "name": "stdout"
        }
      ]
    },
    {
      "cell_type": "code",
      "metadata": {
        "id": "rt-rc_hRp8xP"
      },
      "source": [
        "concatenated_dataframes = pd.concat(participant_dfs, axis=0)"
      ],
      "execution_count": null,
      "outputs": []
    },
    {
      "cell_type": "code",
      "metadata": {
        "colab": {
          "base_uri": "https://localhost:8080/",
          "height": 402
        },
        "id": "e0W_9gagtzrK",
        "outputId": "8d9aefd6-0a3c-43e5-f0e8-14b6e83b0cae"
      },
      "source": [
        "data_analysis_df=concatenated_dataframes[[\"aoi\",\"MediaName\",\"ZeroMeanGazeDuration\",\"arousal\",\"ParticipantName\",\"count\"]]\n",
        "data_analysis_df.drop_duplicates()"
      ],
      "execution_count": null,
      "outputs": [
        {
          "output_type": "execute_result",
          "data": {
            "text/html": [
              "<div>\n",
              "<style scoped>\n",
              "    .dataframe tbody tr th:only-of-type {\n",
              "        vertical-align: middle;\n",
              "    }\n",
              "\n",
              "    .dataframe tbody tr th {\n",
              "        vertical-align: top;\n",
              "    }\n",
              "\n",
              "    .dataframe thead th {\n",
              "        text-align: right;\n",
              "    }\n",
              "</style>\n",
              "<table border=\"1\" class=\"dataframe\">\n",
              "  <thead>\n",
              "    <tr style=\"text-align: right;\">\n",
              "      <th></th>\n",
              "      <th>aoi</th>\n",
              "      <th>MediaName</th>\n",
              "      <th>ZeroMeanGazeDuration</th>\n",
              "      <th>arousal</th>\n",
              "      <th>ParticipantName</th>\n",
              "      <th>count</th>\n",
              "    </tr>\n",
              "  </thead>\n",
              "  <tbody>\n",
              "    <tr>\n",
              "      <th>0</th>\n",
              "      <td>AOI[Rectangle 10]Hit</td>\n",
              "      <td>Text-11.png</td>\n",
              "      <td>26.949721</td>\n",
              "      <td>L</td>\n",
              "      <td>P01</td>\n",
              "      <td>7</td>\n",
              "    </tr>\n",
              "    <tr>\n",
              "      <th>1</th>\n",
              "      <td>AOI[Rectangle 10]Hit</td>\n",
              "      <td>Text-11.png</td>\n",
              "      <td>-56.050279</td>\n",
              "      <td>L</td>\n",
              "      <td>P01</td>\n",
              "      <td>7</td>\n",
              "    </tr>\n",
              "    <tr>\n",
              "      <th>3</th>\n",
              "      <td>AOI[Rectangle 10]Hit</td>\n",
              "      <td>Text-11.png</td>\n",
              "      <td>43.949721</td>\n",
              "      <td>L</td>\n",
              "      <td>P01</td>\n",
              "      <td>7</td>\n",
              "    </tr>\n",
              "    <tr>\n",
              "      <th>4</th>\n",
              "      <td>AOI[Rectangle 10]Hit</td>\n",
              "      <td>Text-11.png</td>\n",
              "      <td>-65.050279</td>\n",
              "      <td>L</td>\n",
              "      <td>P01</td>\n",
              "      <td>7</td>\n",
              "    </tr>\n",
              "    <tr>\n",
              "      <th>5</th>\n",
              "      <td>AOI[Rectangle 10]Hit</td>\n",
              "      <td>Text-11.png</td>\n",
              "      <td>-98.050279</td>\n",
              "      <td>L</td>\n",
              "      <td>P01</td>\n",
              "      <td>7</td>\n",
              "    </tr>\n",
              "    <tr>\n",
              "      <th>...</th>\n",
              "      <td>...</td>\n",
              "      <td>...</td>\n",
              "      <td>...</td>\n",
              "      <td>...</td>\n",
              "      <td>...</td>\n",
              "      <td>...</td>\n",
              "    </tr>\n",
              "    <tr>\n",
              "      <th>3081</th>\n",
              "      <td>AOI[Rectangle 9]Hit</td>\n",
              "      <td>Text-9.png</td>\n",
              "      <td>-14.061244</td>\n",
              "      <td>H</td>\n",
              "      <td>P16</td>\n",
              "      <td>14</td>\n",
              "    </tr>\n",
              "    <tr>\n",
              "      <th>3082</th>\n",
              "      <td>AOI[Rectangle 9]Hit</td>\n",
              "      <td>Text-9.png</td>\n",
              "      <td>60.938756</td>\n",
              "      <td>H</td>\n",
              "      <td>P16</td>\n",
              "      <td>14</td>\n",
              "    </tr>\n",
              "    <tr>\n",
              "      <th>3083</th>\n",
              "      <td>AOI[Rectangle 9]Hit</td>\n",
              "      <td>Text-9.png</td>\n",
              "      <td>1.938756</td>\n",
              "      <td>H</td>\n",
              "      <td>P16</td>\n",
              "      <td>14</td>\n",
              "    </tr>\n",
              "    <tr>\n",
              "      <th>3084</th>\n",
              "      <td>AOI[Rectangle 9]Hit</td>\n",
              "      <td>Text-9.png</td>\n",
              "      <td>-106.061244</td>\n",
              "      <td>H</td>\n",
              "      <td>P16</td>\n",
              "      <td>14</td>\n",
              "    </tr>\n",
              "    <tr>\n",
              "      <th>3085</th>\n",
              "      <td>AOI[Rectangle 9]Hit</td>\n",
              "      <td>Text-9.png</td>\n",
              "      <td>10.938756</td>\n",
              "      <td>H</td>\n",
              "      <td>P16</td>\n",
              "      <td>14</td>\n",
              "    </tr>\n",
              "  </tbody>\n",
              "</table>\n",
              "<p>30151 rows × 6 columns</p>\n",
              "</div>"
            ],
            "text/plain": [
              "                       aoi    MediaName  ...  ParticipantName count\n",
              "0     AOI[Rectangle 10]Hit  Text-11.png  ...              P01     7\n",
              "1     AOI[Rectangle 10]Hit  Text-11.png  ...              P01     7\n",
              "3     AOI[Rectangle 10]Hit  Text-11.png  ...              P01     7\n",
              "4     AOI[Rectangle 10]Hit  Text-11.png  ...              P01     7\n",
              "5     AOI[Rectangle 10]Hit  Text-11.png  ...              P01     7\n",
              "...                    ...          ...  ...              ...   ...\n",
              "3081   AOI[Rectangle 9]Hit   Text-9.png  ...              P16    14\n",
              "3082   AOI[Rectangle 9]Hit   Text-9.png  ...              P16    14\n",
              "3083   AOI[Rectangle 9]Hit   Text-9.png  ...              P16    14\n",
              "3084   AOI[Rectangle 9]Hit   Text-9.png  ...              P16    14\n",
              "3085   AOI[Rectangle 9]Hit   Text-9.png  ...              P16    14\n",
              "\n",
              "[30151 rows x 6 columns]"
            ]
          },
          "metadata": {
            "tags": []
          },
          "execution_count": 16
        }
      ]
    },
    {
      "cell_type": "code",
      "metadata": {
        "colab": {
          "base_uri": "https://localhost:8080/",
          "height": 299
        },
        "id": "Q_UjOTJBMeGQ",
        "outputId": "1ab89cf2-ff43-4bfa-d49b-44de167cae24"
      },
      "source": [
        "concatenated_dataframes.head()"
      ],
      "execution_count": null,
      "outputs": [
        {
          "output_type": "execute_result",
          "data": {
            "text/html": [
              "<div>\n",
              "<style scoped>\n",
              "    .dataframe tbody tr th:only-of-type {\n",
              "        vertical-align: middle;\n",
              "    }\n",
              "\n",
              "    .dataframe tbody tr th {\n",
              "        vertical-align: top;\n",
              "    }\n",
              "\n",
              "    .dataframe thead th {\n",
              "        text-align: right;\n",
              "    }\n",
              "</style>\n",
              "<table border=\"1\" class=\"dataframe\">\n",
              "  <thead>\n",
              "    <tr style=\"text-align: right;\">\n",
              "      <th></th>\n",
              "      <th>aoi</th>\n",
              "      <th>MediaName</th>\n",
              "      <th>count</th>\n",
              "      <th>NormalizedGazeDuration_x</th>\n",
              "      <th>arousal</th>\n",
              "      <th>GazeEventDuration</th>\n",
              "      <th>GazeEventType</th>\n",
              "      <th>ParticipantName</th>\n",
              "      <th>FixationIndex</th>\n",
              "      <th>ZeroMeanGazeDuration</th>\n",
              "      <th>NormalizedGazeDuration_y</th>\n",
              "    </tr>\n",
              "  </thead>\n",
              "  <tbody>\n",
              "    <tr>\n",
              "      <th>0</th>\n",
              "      <td>AOI[Rectangle 10]Hit</td>\n",
              "      <td>Text-11.png</td>\n",
              "      <td>7</td>\n",
              "      <td>0.225235</td>\n",
              "      <td>L</td>\n",
              "      <td>200</td>\n",
              "      <td>Fixation</td>\n",
              "      <td>P01</td>\n",
              "      <td>629.0</td>\n",
              "      <td>26.949721</td>\n",
              "      <td>0.485401</td>\n",
              "    </tr>\n",
              "    <tr>\n",
              "      <th>1</th>\n",
              "      <td>AOI[Rectangle 10]Hit</td>\n",
              "      <td>Text-11.png</td>\n",
              "      <td>7</td>\n",
              "      <td>0.225235</td>\n",
              "      <td>L</td>\n",
              "      <td>117</td>\n",
              "      <td>Fixation</td>\n",
              "      <td>P01</td>\n",
              "      <td>630.0</td>\n",
              "      <td>-56.050279</td>\n",
              "      <td>0.182482</td>\n",
              "    </tr>\n",
              "    <tr>\n",
              "      <th>2</th>\n",
              "      <td>AOI[Rectangle 10]Hit</td>\n",
              "      <td>Text-11.png</td>\n",
              "      <td>7</td>\n",
              "      <td>0.225235</td>\n",
              "      <td>L</td>\n",
              "      <td>117</td>\n",
              "      <td>Fixation</td>\n",
              "      <td>P01</td>\n",
              "      <td>631.0</td>\n",
              "      <td>-56.050279</td>\n",
              "      <td>0.182482</td>\n",
              "    </tr>\n",
              "    <tr>\n",
              "      <th>3</th>\n",
              "      <td>AOI[Rectangle 10]Hit</td>\n",
              "      <td>Text-11.png</td>\n",
              "      <td>7</td>\n",
              "      <td>0.225235</td>\n",
              "      <td>L</td>\n",
              "      <td>217</td>\n",
              "      <td>Fixation</td>\n",
              "      <td>P01</td>\n",
              "      <td>632.0</td>\n",
              "      <td>43.949721</td>\n",
              "      <td>0.547445</td>\n",
              "    </tr>\n",
              "    <tr>\n",
              "      <th>4</th>\n",
              "      <td>AOI[Rectangle 10]Hit</td>\n",
              "      <td>Text-11.png</td>\n",
              "      <td>7</td>\n",
              "      <td>0.225235</td>\n",
              "      <td>L</td>\n",
              "      <td>108</td>\n",
              "      <td>Fixation</td>\n",
              "      <td>P01</td>\n",
              "      <td>633.0</td>\n",
              "      <td>-65.050279</td>\n",
              "      <td>0.149635</td>\n",
              "    </tr>\n",
              "  </tbody>\n",
              "</table>\n",
              "</div>"
            ],
            "text/plain": [
              "                    aoi  ... NormalizedGazeDuration_y\n",
              "0  AOI[Rectangle 10]Hit  ...                 0.485401\n",
              "1  AOI[Rectangle 10]Hit  ...                 0.182482\n",
              "2  AOI[Rectangle 10]Hit  ...                 0.182482\n",
              "3  AOI[Rectangle 10]Hit  ...                 0.547445\n",
              "4  AOI[Rectangle 10]Hit  ...                 0.149635\n",
              "\n",
              "[5 rows x 11 columns]"
            ]
          },
          "metadata": {
            "tags": []
          },
          "execution_count": 17
        }
      ]
    },
    {
      "cell_type": "markdown",
      "metadata": {
        "id": "MHbyPBa0B175"
      },
      "source": [
        "### Analisis of Fixiation lenght\n",
        "\n",
        "\n"
      ]
    },
    {
      "cell_type": "markdown",
      "metadata": {
        "id": "XBp1JHQqCFR-"
      },
      "source": [
        "Analisys of variance"
      ]
    },
    {
      "cell_type": "code",
      "metadata": {
        "id": "GJ5qQLg5vhve"
      },
      "source": [
        "data_analysis_fixiation_lenght_df=concatenated_dataframes[[\"aoi\",\"MediaName\",\"NormalizedGazeDuration_x\",\"arousal\"]]\n",
        "data_analysis_fixiation_lenght_df=data_analysis_fixiation_lenght_df.drop_duplicates()\n",
        "mod = ols(\"NormalizedGazeDuration_x~arousal\",data=data_analysis_fixiation_lenght_df).fit()\n",
        "aov = sm.stats.anova_lm(mod, type=2)"
      ],
      "execution_count": null,
      "outputs": []
    },
    {
      "cell_type": "code",
      "metadata": {
        "colab": {
          "base_uri": "https://localhost:8080/",
          "height": 106
        },
        "id": "lXPCIH_6rHQv",
        "outputId": "506a2148-1c0d-4e06-c5e7-c0bc418ac02c"
      },
      "source": [
        "aov"
      ],
      "execution_count": null,
      "outputs": [
        {
          "output_type": "execute_result",
          "data": {
            "text/html": [
              "<div>\n",
              "<style scoped>\n",
              "    .dataframe tbody tr th:only-of-type {\n",
              "        vertical-align: middle;\n",
              "    }\n",
              "\n",
              "    .dataframe tbody tr th {\n",
              "        vertical-align: top;\n",
              "    }\n",
              "\n",
              "    .dataframe thead th {\n",
              "        text-align: right;\n",
              "    }\n",
              "</style>\n",
              "<table border=\"1\" class=\"dataframe\">\n",
              "  <thead>\n",
              "    <tr style=\"text-align: right;\">\n",
              "      <th></th>\n",
              "      <th>df</th>\n",
              "      <th>sum_sq</th>\n",
              "      <th>mean_sq</th>\n",
              "      <th>F</th>\n",
              "      <th>PR(&gt;F)</th>\n",
              "    </tr>\n",
              "  </thead>\n",
              "  <tbody>\n",
              "    <tr>\n",
              "      <th>arousal</th>\n",
              "      <td>2.0</td>\n",
              "      <td>0.053219</td>\n",
              "      <td>0.026609</td>\n",
              "      <td>2.073859</td>\n",
              "      <td>0.125891</td>\n",
              "    </tr>\n",
              "    <tr>\n",
              "      <th>Residual</th>\n",
              "      <td>2822.0</td>\n",
              "      <td>36.208730</td>\n",
              "      <td>0.012831</td>\n",
              "      <td>NaN</td>\n",
              "      <td>NaN</td>\n",
              "    </tr>\n",
              "  </tbody>\n",
              "</table>\n",
              "</div>"
            ],
            "text/plain": [
              "              df     sum_sq   mean_sq         F    PR(>F)\n",
              "arousal      2.0   0.053219  0.026609  2.073859  0.125891\n",
              "Residual  2822.0  36.208730  0.012831       NaN       NaN"
            ]
          },
          "metadata": {
            "tags": []
          },
          "execution_count": 19
        }
      ]
    },
    {
      "cell_type": "markdown",
      "metadata": {
        "id": "nOEgoNw7CIgD"
      },
      "source": [
        "Box plot"
      ]
    },
    {
      "cell_type": "code",
      "metadata": {
        "id": "tgBki_-zsnCN",
        "colab": {
          "base_uri": "https://localhost:8080/",
          "height": 371
        },
        "outputId": "ea399202-899d-40da-f7ae-99fe97355527"
      },
      "source": [
        "data_analysis_fixiation_lenght_df.boxplot(\"NormalizedGazeDuration_x\", by=\"arousal\")"
      ],
      "execution_count": null,
      "outputs": [
        {
          "output_type": "stream",
          "text": [
            "/usr/local/lib/python3.6/dist-packages/numpy/core/_asarray.py:83: VisibleDeprecationWarning: Creating an ndarray from ragged nested sequences (which is a list-or-tuple of lists-or-tuples-or ndarrays with different lengths or shapes) is deprecated. If you meant to do this, you must specify 'dtype=object' when creating the ndarray\n",
            "  return array(a, dtype, copy=False, order=order)\n"
          ],
          "name": "stderr"
        },
        {
          "output_type": "execute_result",
          "data": {
            "text/plain": [
              "<matplotlib.axes._subplots.AxesSubplot at 0x7f3cc49319e8>"
            ]
          },
          "metadata": {
            "tags": []
          },
          "execution_count": 20
        },
        {
          "output_type": "display_data",
          "data": {
            "image/png": "[encoded data removed]",
            "text/plain": [
              "<Figure size 432x288 with 1 Axes>"
            ]
          },
          "metadata": {
            "tags": [],
            "needs_background": "light"
          }
        }
      ]
    },
    {
      "cell_type": "code",
      "metadata": {
        "id": "dU1Bixh3p3L0",
        "colab": {
          "base_uri": "https://localhost:8080/",
          "height": 166
        },
        "outputId": "77a661ed-2de1-4c01-d98d-df8b6428ddc7"
      },
      "source": [
        "data_analysis_fixiation_lenght_df.groupby(\"arousal\").mean()"
      ],
      "execution_count": null,
      "outputs": [
        {
          "output_type": "execute_result",
          "data": {
            "text/html": [
              "<div>\n",
              "<style scoped>\n",
              "    .dataframe tbody tr th:only-of-type {\n",
              "        vertical-align: middle;\n",
              "    }\n",
              "\n",
              "    .dataframe tbody tr th {\n",
              "        vertical-align: top;\n",
              "    }\n",
              "\n",
              "    .dataframe thead th {\n",
              "        text-align: right;\n",
              "    }\n",
              "</style>\n",
              "<table border=\"1\" class=\"dataframe\">\n",
              "  <thead>\n",
              "    <tr style=\"text-align: right;\">\n",
              "      <th></th>\n",
              "      <th>NormalizedGazeDuration_x</th>\n",
              "    </tr>\n",
              "    <tr>\n",
              "      <th>arousal</th>\n",
              "      <th></th>\n",
              "    </tr>\n",
              "  </thead>\n",
              "  <tbody>\n",
              "    <tr>\n",
              "      <th>H</th>\n",
              "      <td>0.446966</td>\n",
              "    </tr>\n",
              "    <tr>\n",
              "      <th>L</th>\n",
              "      <td>0.437504</td>\n",
              "    </tr>\n",
              "    <tr>\n",
              "      <th>M</th>\n",
              "      <td>0.438013</td>\n",
              "    </tr>\n",
              "  </tbody>\n",
              "</table>\n",
              "</div>"
            ],
            "text/plain": [
              "         NormalizedGazeDuration_x\n",
              "arousal                          \n",
              "H                        0.446966\n",
              "L                        0.437504\n",
              "M                        0.438013"
            ]
          },
          "metadata": {
            "tags": []
          },
          "execution_count": 21
        }
      ]
    },
    {
      "cell_type": "code",
      "metadata": {
        "colab": {
          "base_uri": "https://localhost:8080/"
        },
        "id": "K_i8N85HFUQD",
        "outputId": "d93c2a14-f830-4d20-cfba-f46c506ed6fb"
      },
      "source": [
        "for i,participant in enumerate(participant_dfs):\n",
        "  participant_fixiation_lenght_df=participant[[\"aoi\",\"MediaName\",\"NormalizedGazeDuration_x\",\"arousal\"]]\n",
        "  participant_fixiation_lenght_df=participant_fixiation_lenght_df.drop_duplicates()\n",
        "  participant_fixiation_lenght_df.groupby(\"arousal\").mean()\n",
        "  print(\"PARTICIPANT: \"+str(i+1))\n",
        "  print(participant_fixiation_lenght_df.groupby(\"arousal\").mean())"
      ],
      "execution_count": null,
      "outputs": [
        {
          "output_type": "stream",
          "text": [
            "PARTICIPANT: 1\n",
            "         NormalizedGazeDuration_x\n",
            "arousal                          \n",
            "H                        0.363566\n",
            "L                        0.386032\n",
            "M                        0.404836\n",
            "PARTICIPANT: 2\n",
            "         NormalizedGazeDuration_x\n",
            "arousal                          \n",
            "H                        0.382299\n",
            "L                        0.385565\n",
            "M                        0.372416\n",
            "PARTICIPANT: 3\n",
            "         NormalizedGazeDuration_x\n",
            "arousal                          \n",
            "H                        0.430280\n",
            "L                        0.402954\n",
            "M                        0.372372\n",
            "PARTICIPANT: 4\n",
            "         NormalizedGazeDuration_x\n",
            "arousal                          \n",
            "H                        0.385455\n",
            "L                        0.348164\n",
            "M                        0.392477\n",
            "PARTICIPANT: 5\n",
            "         NormalizedGazeDuration_x\n",
            "arousal                          \n",
            "H                        0.561734\n",
            "L                        0.520179\n",
            "M                        0.536712\n",
            "PARTICIPANT: 6\n",
            "         NormalizedGazeDuration_x\n",
            "arousal                          \n",
            "H                        0.602052\n",
            "L                        0.614004\n",
            "M                        0.625732\n",
            "PARTICIPANT: 7\n",
            "         NormalizedGazeDuration_x\n",
            "arousal                          \n",
            "H                        0.368096\n",
            "L                        0.269607\n",
            "M                        0.297726\n",
            "PARTICIPANT: 8\n",
            "         NormalizedGazeDuration_x\n",
            "arousal                          \n",
            "H                        0.404601\n",
            "L                        0.434472\n",
            "M                        0.416545\n",
            "PARTICIPANT: 9\n",
            "         NormalizedGazeDuration_x\n",
            "arousal                          \n",
            "H                        0.505699\n",
            "L                        0.504840\n",
            "M                        0.504391\n",
            "PARTICIPANT: 10\n",
            "         NormalizedGazeDuration_x\n",
            "arousal                          \n",
            "H                        0.463788\n",
            "L                        0.444052\n",
            "M                        0.444160\n",
            "PARTICIPANT: 11\n",
            "         NormalizedGazeDuration_x\n",
            "arousal                          \n",
            "H                        0.363096\n",
            "L                        0.330351\n",
            "M                        0.361498\n",
            "PARTICIPANT: 12\n",
            "         NormalizedGazeDuration_x\n",
            "arousal                          \n",
            "H                        0.387931\n",
            "L                        0.395618\n",
            "M                        0.390481\n",
            "PARTICIPANT: 13\n",
            "         NormalizedGazeDuration_x\n",
            "arousal                          \n",
            "H                        0.489451\n",
            "L                        0.493946\n",
            "M                        0.485149\n",
            "PARTICIPANT: 14\n",
            "         NormalizedGazeDuration_x\n",
            "arousal                          \n",
            "H                        0.439308\n",
            "L                        0.466405\n",
            "M                        0.449166\n",
            "PARTICIPANT: 15\n",
            "         NormalizedGazeDuration_x\n",
            "arousal                          \n",
            "H                        0.522795\n",
            "L                        0.530623\n",
            "M                        0.521030\n",
            "PARTICIPANT: 16\n",
            "         NormalizedGazeDuration_x\n",
            "arousal                          \n",
            "H                        0.439744\n",
            "L                        0.456755\n",
            "M                        0.406460\n"
          ],
          "name": "stdout"
        }
      ]
    },
    {
      "cell_type": "code",
      "metadata": {
        "colab": {
          "base_uri": "https://localhost:8080/",
          "height": 1000
        },
        "id": "0XYRlccJKURw",
        "outputId": "7af7d2be-87a9-47d0-e7d7-33c659093af8"
      },
      "source": [
        "for i,participant in enumerate(participant_dfs):\n",
        "  participant_fixiation_lenght_df=participant[[\"aoi\",\"MediaName\",\"NormalizedGazeDuration_x\",\"arousal\"]]\n",
        "  participant_fixiation_lenght_df=participant_fixiation_lenght_df.drop_duplicates()\n",
        "  participant_fixiation_lenght_df.groupby(\"arousal\").mean()\n",
        "  print(\"PARTICIPANT: \"+str(i+1))\n",
        "  participant_fixiation_lenght_df.boxplot(\"NormalizedGazeDuration_x\", by=\"arousal\")\n"
      ],
      "execution_count": null,
      "outputs": [
        {
          "output_type": "stream",
          "text": [
            "PARTICIPANT: 1\n",
            "PARTICIPANT: 2\n",
            "PARTICIPANT: 3\n",
            "PARTICIPANT: 4\n",
            "PARTICIPANT: 5\n"
          ],
          "name": "stdout"
        },
        {
          "output_type": "stream",
          "text": [
            "/usr/local/lib/python3.6/dist-packages/numpy/core/_asarray.py:83: VisibleDeprecationWarning: Creating an ndarray from ragged nested sequences (which is a list-or-tuple of lists-or-tuples-or ndarrays with different lengths or shapes) is deprecated. If you meant to do this, you must specify 'dtype=object' when creating the ndarray\n",
            "  return array(a, dtype, copy=False, order=order)\n",
            "/usr/local/lib/python3.6/dist-packages/numpy/core/_asarray.py:83: VisibleDeprecationWarning: Creating an ndarray from ragged nested sequences (which is a list-or-tuple of lists-or-tuples-or ndarrays with different lengths or shapes) is deprecated. If you meant to do this, you must specify 'dtype=object' when creating the ndarray\n",
            "  return array(a, dtype, copy=False, order=order)\n",
            "/usr/local/lib/python3.6/dist-packages/numpy/core/_asarray.py:83: VisibleDeprecationWarning: Creating an ndarray from ragged nested sequences (which is a list-or-tuple of lists-or-tuples-or ndarrays with different lengths or shapes) is deprecated. If you meant to do this, you must specify 'dtype=object' when creating the ndarray\n",
            "  return array(a, dtype, copy=False, order=order)\n",
            "/usr/local/lib/python3.6/dist-packages/numpy/core/_asarray.py:83: VisibleDeprecationWarning: Creating an ndarray from ragged nested sequences (which is a list-or-tuple of lists-or-tuples-or ndarrays with different lengths or shapes) is deprecated. If you meant to do this, you must specify 'dtype=object' when creating the ndarray\n",
            "  return array(a, dtype, copy=False, order=order)\n",
            "/usr/local/lib/python3.6/dist-packages/numpy/core/_asarray.py:83: VisibleDeprecationWarning: Creating an ndarray from ragged nested sequences (which is a list-or-tuple of lists-or-tuples-or ndarrays with different lengths or shapes) is deprecated. If you meant to do this, you must specify 'dtype=object' when creating the ndarray\n",
            "  return array(a, dtype, copy=False, order=order)\n"
          ],
          "name": "stderr"
        },
        {
          "output_type": "stream",
          "text": [
            "PARTICIPANT: 6\n",
            "PARTICIPANT: 7\n",
            "PARTICIPANT: 8\n",
            "PARTICIPANT: 9\n",
            "PARTICIPANT: 10\n"
          ],
          "name": "stdout"
        },
        {
          "output_type": "stream",
          "text": [
            "/usr/local/lib/python3.6/dist-packages/numpy/core/_asarray.py:83: VisibleDeprecationWarning: Creating an ndarray from ragged nested sequences (which is a list-or-tuple of lists-or-tuples-or ndarrays with different lengths or shapes) is deprecated. If you meant to do this, you must specify 'dtype=object' when creating the ndarray\n",
            "  return array(a, dtype, copy=False, order=order)\n",
            "/usr/local/lib/python3.6/dist-packages/numpy/core/_asarray.py:83: VisibleDeprecationWarning: Creating an ndarray from ragged nested sequences (which is a list-or-tuple of lists-or-tuples-or ndarrays with different lengths or shapes) is deprecated. If you meant to do this, you must specify 'dtype=object' when creating the ndarray\n",
            "  return array(a, dtype, copy=False, order=order)\n",
            "/usr/local/lib/python3.6/dist-packages/numpy/core/_asarray.py:83: VisibleDeprecationWarning: Creating an ndarray from ragged nested sequences (which is a list-or-tuple of lists-or-tuples-or ndarrays with different lengths or shapes) is deprecated. If you meant to do this, you must specify 'dtype=object' when creating the ndarray\n",
            "  return array(a, dtype, copy=False, order=order)\n",
            "/usr/local/lib/python3.6/dist-packages/numpy/core/_asarray.py:83: VisibleDeprecationWarning: Creating an ndarray from ragged nested sequences (which is a list-or-tuple of lists-or-tuples-or ndarrays with different lengths or shapes) is deprecated. If you meant to do this, you must specify 'dtype=object' when creating the ndarray\n",
            "  return array(a, dtype, copy=False, order=order)\n",
            "/usr/local/lib/python3.6/dist-packages/numpy/core/_asarray.py:83: VisibleDeprecationWarning: Creating an ndarray from ragged nested sequences (which is a list-or-tuple of lists-or-tuples-or ndarrays with different lengths or shapes) is deprecated. If you meant to do this, you must specify 'dtype=object' when creating the ndarray\n",
            "  return array(a, dtype, copy=False, order=order)\n"
          ],
          "name": "stderr"
        },
        {
          "output_type": "stream",
          "text": [
            "PARTICIPANT: 11\n",
            "PARTICIPANT: 12\n",
            "PARTICIPANT: 13\n"
          ],
          "name": "stdout"
        },
        {
          "output_type": "stream",
          "text": [
            "/usr/local/lib/python3.6/dist-packages/numpy/core/_asarray.py:83: VisibleDeprecationWarning: Creating an ndarray from ragged nested sequences (which is a list-or-tuple of lists-or-tuples-or ndarrays with different lengths or shapes) is deprecated. If you meant to do this, you must specify 'dtype=object' when creating the ndarray\n",
            "  return array(a, dtype, copy=False, order=order)\n",
            "/usr/local/lib/python3.6/dist-packages/numpy/core/_asarray.py:83: VisibleDeprecationWarning: Creating an ndarray from ragged nested sequences (which is a list-or-tuple of lists-or-tuples-or ndarrays with different lengths or shapes) is deprecated. If you meant to do this, you must specify 'dtype=object' when creating the ndarray\n",
            "  return array(a, dtype, copy=False, order=order)\n",
            "/usr/local/lib/python3.6/dist-packages/numpy/core/_asarray.py:83: VisibleDeprecationWarning: Creating an ndarray from ragged nested sequences (which is a list-or-tuple of lists-or-tuples-or ndarrays with different lengths or shapes) is deprecated. If you meant to do this, you must specify 'dtype=object' when creating the ndarray\n",
            "  return array(a, dtype, copy=False, order=order)\n"
          ],
          "name": "stderr"
        },
        {
          "output_type": "stream",
          "text": [
            "PARTICIPANT: 14\n",
            "PARTICIPANT: 15\n",
            "PARTICIPANT: 16\n"
          ],
          "name": "stdout"
        },
        {
          "output_type": "stream",
          "text": [
            "/usr/local/lib/python3.6/dist-packages/numpy/core/_asarray.py:83: VisibleDeprecationWarning: Creating an ndarray from ragged nested sequences (which is a list-or-tuple of lists-or-tuples-or ndarrays with different lengths or shapes) is deprecated. If you meant to do this, you must specify 'dtype=object' when creating the ndarray\n",
            "  return array(a, dtype, copy=False, order=order)\n",
            "/usr/local/lib/python3.6/dist-packages/numpy/core/_asarray.py:83: VisibleDeprecationWarning: Creating an ndarray from ragged nested sequences (which is a list-or-tuple of lists-or-tuples-or ndarrays with different lengths or shapes) is deprecated. If you meant to do this, you must specify 'dtype=object' when creating the ndarray\n",
            "  return array(a, dtype, copy=False, order=order)\n",
            "/usr/local/lib/python3.6/dist-packages/numpy/core/_asarray.py:83: VisibleDeprecationWarning: Creating an ndarray from ragged nested sequences (which is a list-or-tuple of lists-or-tuples-or ndarrays with different lengths or shapes) is deprecated. If you meant to do this, you must specify 'dtype=object' when creating the ndarray\n",
            "  return array(a, dtype, copy=False, order=order)\n"
          ],
          "name": "stderr"
        },
        {
          "output_type": "display_data",
          "data": {
            "image/png": "[encoded data removed]",
            "text/plain": [
              "<Figure size 432x288 with 1 Axes>"
            ]
          },
          "metadata": {
            "tags": [],
            "needs_background": "light"
          }
        },
        {
          "output_type": "display_data",
          "data": {
            "image/png": "[encoded data removed]",
            "text/plain": [
              "<Figure size 432x288 with 1 Axes>"
            ]
          },
          "metadata": {
            "tags": [],
            "needs_background": "light"
          }
        },
        {
          "output_type": "display_data",
          "data": {
            "image/png": "[encoded data removed]",
            "text/plain": [
              "<Figure size 432x288 with 1 Axes>"
            ]
          },
          "metadata": {
            "tags": [],
            "needs_background": "light"
          }
        },
        {
          "output_type": "display_data",
          "data": {
            "image/png": "[encoded data removed]",
            "text/plain": [
              "<Figure size 432x288 with 1 Axes>"
            ]
          },
          "metadata": {
            "tags": [],
            "needs_background": "light"
          }
        },
        {
          "output_type": "display_data",
          "data": {
            "image/png": "[encoded data removed]",
            "text/plain": [
              "<Figure size 432x288 with 1 Axes>"
            ]
          },
          "metadata": {
            "tags": [],
            "needs_background": "light"
          }
        },
        {
          "output_type": "display_data",
          "data": {
            "image/png": "[encoded data removed]",
            "text/plain": [
              "<Figure size 432x288 with 1 Axes>"
            ]
          },
          "metadata": {
            "tags": [],
            "needs_background": "light"
          }
        },
        {
          "output_type": "display_data",
          "data": {
            "image/png": "[encoded data removed]",
            "text/plain": [
              "<Figure size 432x288 with 1 Axes>"
            ]
          },
          "metadata": {
            "tags": [],
            "needs_background": "light"
          }
        },
        {
          "output_type": "display_data",
          "data": {
            "image/png": "[encoded data removed]",
            "text/plain": [
              "<Figure size 432x288 with 1 Axes>"
            ]
          },
          "metadata": {
            "tags": [],
            "needs_background": "light"
          }
        },
        {
          "output_type": "display_data",
          "data": {
            "image/png": "[encoded data removed]",
            "text/plain": [
              "<Figure size 432x288 with 1 Axes>"
            ]
          },
          "metadata": {
            "tags": [],
            "needs_background": "light"
          }
        },
        {
          "output_type": "display_data",
          "data": {
            "image/png": "[encoded data removed]",
            "text/plain": [
              "<Figure size 432x288 with 1 Axes>"
            ]
          },
          "metadata": {
            "tags": [],
            "needs_background": "light"
          }
        },
        {
          "output_type": "display_data",
          "data": {
            "image/png": "[encoded data removed]",
            "text/plain": [
              "<Figure size 432x288 with 1 Axes>"
            ]
          },
          "metadata": {
            "tags": [],
            "needs_background": "light"
          }
        },
        {
          "output_type": "display_data",
          "data": {
            "image/png": "[encoded data removed]",
            "text/plain": [
              "<Figure size 432x288 with 1 Axes>"
            ]
          },
          "metadata": {
            "tags": [],
            "needs_background": "light"
          }
        },
        {
          "output_type": "display_data",
          "data": {
            "image/png": "[encoded data removed]",
            "text/plain": [
              "<Figure size 432x288 with 1 Axes>"
            ]
          },
          "metadata": {
            "tags": [],
            "needs_background": "light"
          }
        },
        {
          "output_type": "display_data",
          "data": {
            "image/png": "[encoded data removed]",
            "text/plain": [
              "<Figure size 432x288 with 1 Axes>"
            ]
          },
          "metadata": {
            "tags": [],
            "needs_background": "light"
          }
        },
        {
          "output_type": "display_data",
          "data": {
            "image/png": "[encoded data removed]",
            "text/plain": [
              "<Figure size 432x288 with 1 Axes>"
            ]
          },
          "metadata": {
            "tags": [],
            "needs_background": "light"
          }
        },
        {
          "output_type": "display_data",
          "data": {
            "image/png": "[encoded data removed]",
            "text/plain": [
              "<Figure size 432x288 with 1 Axes>"
            ]
          },
          "metadata": {
            "tags": [],
            "needs_background": "light"
          }
        }
      ]
    },
    {
      "cell_type": "markdown",
      "metadata": {
        "id": "o7I94xuNGa_v"
      },
      "source": [
        "## Fixiation Count analysis"
      ]
    },
    {
      "cell_type": "code",
      "metadata": {
        "id": "CR4317NQlFez"
      },
      "source": [
        "data_analysis_fixiation_count_df=concatenated_dataframes[[\"aoi\",\"MediaName\",\"count\",\"arousal\"]]\n",
        "data_analysis_fixiation_count_df=data_analysis_fixiation_count_df.drop_duplicates()\n",
        "mod = ols(\"count~arousal\",data=data_analysis_fixiation_count_df).fit()\n",
        "aov = sm.stats.anova_lm(mod, type=2)"
      ],
      "execution_count": null,
      "outputs": []
    },
    {
      "cell_type": "code",
      "metadata": {
        "colab": {
          "base_uri": "https://localhost:8080/",
          "height": 106
        },
        "id": "0kmJE9d0Iec3",
        "outputId": "329771d7-8d3d-4051-c86a-5aa85cdbcac7"
      },
      "source": [
        "aov"
      ],
      "execution_count": null,
      "outputs": [
        {
          "output_type": "execute_result",
          "data": {
            "text/html": [
              "<div>\n",
              "<style scoped>\n",
              "    .dataframe tbody tr th:only-of-type {\n",
              "        vertical-align: middle;\n",
              "    }\n",
              "\n",
              "    .dataframe tbody tr th {\n",
              "        vertical-align: top;\n",
              "    }\n",
              "\n",
              "    .dataframe thead th {\n",
              "        text-align: right;\n",
              "    }\n",
              "</style>\n",
              "<table border=\"1\" class=\"dataframe\">\n",
              "  <thead>\n",
              "    <tr style=\"text-align: right;\">\n",
              "      <th></th>\n",
              "      <th>df</th>\n",
              "      <th>sum_sq</th>\n",
              "      <th>mean_sq</th>\n",
              "      <th>F</th>\n",
              "      <th>PR(&gt;F)</th>\n",
              "    </tr>\n",
              "  </thead>\n",
              "  <tbody>\n",
              "    <tr>\n",
              "      <th>arousal</th>\n",
              "      <td>2.0</td>\n",
              "      <td>118.146000</td>\n",
              "      <td>59.07300</td>\n",
              "      <td>0.960353</td>\n",
              "      <td>0.382896</td>\n",
              "    </tr>\n",
              "    <tr>\n",
              "      <th>Residual</th>\n",
              "      <td>2542.0</td>\n",
              "      <td>156362.818243</td>\n",
              "      <td>61.51173</td>\n",
              "      <td>NaN</td>\n",
              "      <td>NaN</td>\n",
              "    </tr>\n",
              "  </tbody>\n",
              "</table>\n",
              "</div>"
            ],
            "text/plain": [
              "              df         sum_sq   mean_sq         F    PR(>F)\n",
              "arousal      2.0     118.146000  59.07300  0.960353  0.382896\n",
              "Residual  2542.0  156362.818243  61.51173       NaN       NaN"
            ]
          },
          "metadata": {
            "tags": []
          },
          "execution_count": 25
        }
      ]
    },
    {
      "cell_type": "code",
      "metadata": {
        "id": "_DTdHfWvJdGS",
        "colab": {
          "base_uri": "https://localhost:8080/",
          "height": 166
        },
        "outputId": "e8df90a5-9c58-40e6-e680-2fdbeb88075c"
      },
      "source": [
        "data_analysis_fixiation_count_df.groupby(\"arousal\").mean()"
      ],
      "execution_count": null,
      "outputs": [
        {
          "output_type": "execute_result",
          "data": {
            "text/html": [
              "<div>\n",
              "<style scoped>\n",
              "    .dataframe tbody tr th:only-of-type {\n",
              "        vertical-align: middle;\n",
              "    }\n",
              "\n",
              "    .dataframe tbody tr th {\n",
              "        vertical-align: top;\n",
              "    }\n",
              "\n",
              "    .dataframe thead th {\n",
              "        text-align: right;\n",
              "    }\n",
              "</style>\n",
              "<table border=\"1\" class=\"dataframe\">\n",
              "  <thead>\n",
              "    <tr style=\"text-align: right;\">\n",
              "      <th></th>\n",
              "      <th>count</th>\n",
              "    </tr>\n",
              "    <tr>\n",
              "      <th>arousal</th>\n",
              "      <th></th>\n",
              "    </tr>\n",
              "  </thead>\n",
              "  <tbody>\n",
              "    <tr>\n",
              "      <th>H</th>\n",
              "      <td>14.063905</td>\n",
              "    </tr>\n",
              "    <tr>\n",
              "      <th>L</th>\n",
              "      <td>13.813760</td>\n",
              "    </tr>\n",
              "    <tr>\n",
              "      <th>M</th>\n",
              "      <td>14.340723</td>\n",
              "    </tr>\n",
              "  </tbody>\n",
              "</table>\n",
              "</div>"
            ],
            "text/plain": [
              "             count\n",
              "arousal           \n",
              "H        14.063905\n",
              "L        13.813760\n",
              "M        14.340723"
            ]
          },
          "metadata": {
            "tags": []
          },
          "execution_count": 26
        }
      ]
    },
    {
      "cell_type": "code",
      "metadata": {
        "colab": {
          "base_uri": "https://localhost:8080/"
        },
        "id": "UJegYg4MGzdu",
        "outputId": "be58b1a6-0da6-44c7-a6f1-906e869a0efd"
      },
      "source": [
        "for i,participant in enumerate(participant_dfs):\n",
        "  participant_fixiation_lenght_df=participant[[\"aoi\",\"MediaName\",\"count\",\"arousal\"]]\n",
        "  participant_fixiation_lenght_df=participant_fixiation_lenght_df.drop_duplicates()\n",
        "  participant_fixiation_lenght_df.groupby(\"arousal\").mean()\n",
        "  print(\"PARTICIPANT: \"+str(i+1))\n",
        "  print(participant_fixiation_lenght_df.groupby(\"arousal\").mean())"
      ],
      "execution_count": null,
      "outputs": [
        {
          "output_type": "stream",
          "text": [
            "PARTICIPANT: 1\n",
            "             count\n",
            "arousal           \n",
            "H        12.419355\n",
            "L        12.092308\n",
            "M        13.526316\n",
            "PARTICIPANT: 2\n",
            "             count\n",
            "arousal           \n",
            "H        10.779661\n",
            "L        13.666667\n",
            "M        11.440678\n",
            "PARTICIPANT: 3\n",
            "             count\n",
            "arousal           \n",
            "H        14.310345\n",
            "L        12.850000\n",
            "M        14.000000\n",
            "PARTICIPANT: 4\n",
            "             count\n",
            "arousal           \n",
            "H        20.327586\n",
            "L        14.293103\n",
            "M        24.421875\n",
            "PARTICIPANT: 5\n",
            "             count\n",
            "arousal           \n",
            "H         9.300000\n",
            "L        10.681818\n",
            "M         9.666667\n",
            "PARTICIPANT: 6\n",
            "            count\n",
            "arousal          \n",
            "H        8.350877\n",
            "L        8.872727\n",
            "M        9.300000\n",
            "PARTICIPANT: 7\n",
            "             count\n",
            "arousal           \n",
            "H        14.555556\n",
            "L         8.239130\n",
            "M        13.651163\n",
            "PARTICIPANT: 8\n",
            "             count\n",
            "arousal           \n",
            "H        10.603448\n",
            "L        11.620690\n",
            "M        11.400000\n",
            "PARTICIPANT: 9\n",
            "             count\n",
            "arousal           \n",
            "H        10.762712\n",
            "L        12.786885\n",
            "M        11.672131\n",
            "PARTICIPANT: 10\n",
            "             count\n",
            "arousal           \n",
            "H        16.061538\n",
            "L        14.316667\n",
            "M        14.508772\n",
            "PARTICIPANT: 11\n",
            "             count\n",
            "arousal           \n",
            "H        15.359375\n",
            "L        13.500000\n",
            "M        12.967742\n",
            "PARTICIPANT: 12\n",
            "             count\n",
            "arousal           \n",
            "H        12.016949\n",
            "L        13.387097\n",
            "M        12.542373\n",
            "PARTICIPANT: 13\n",
            "             count\n",
            "arousal           \n",
            "H        20.852459\n",
            "L        16.031746\n",
            "M        23.824561\n",
            "PARTICIPANT: 14\n",
            "             count\n",
            "arousal           \n",
            "H        15.540984\n",
            "L        20.228070\n",
            "M        14.476190\n",
            "PARTICIPANT: 15\n",
            "             count\n",
            "arousal           \n",
            "H        13.893939\n",
            "L        14.222222\n",
            "M        13.333333\n",
            "PARTICIPANT: 16\n",
            "             count\n",
            "arousal           \n",
            "H        16.444444\n",
            "L        20.758621\n",
            "M        14.842105\n"
          ],
          "name": "stdout"
        }
      ]
    },
    {
      "cell_type": "code",
      "metadata": {
        "colab": {
          "base_uri": "https://localhost:8080/",
          "height": 1000
        },
        "id": "KxhxG4e_HDvE",
        "outputId": "00947d46-940a-4e87-b0b4-858fa14a17dd"
      },
      "source": [
        "for i,participant in enumerate(participant_dfs):\n",
        "  participant_fixiation_lenght_df=participant[[\"aoi\",\"MediaName\",\"count\",\"arousal\"]]\n",
        "  participant_fixiation_lenght_df=participant_fixiation_lenght_df.drop_duplicates()\n",
        "  participant_fixiation_lenght_df.groupby(\"arousal\").mean()\n",
        "  print(\"PARTICIPANT: \"+str(i+1))\n",
        "  participant_fixiation_lenght_df.boxplot(\"count\", by=\"arousal\")"
      ],
      "execution_count": null,
      "outputs": [
        {
          "output_type": "stream",
          "text": [
            "PARTICIPANT: 1\n",
            "PARTICIPANT: 2\n",
            "PARTICIPANT: 3\n",
            "PARTICIPANT: 4\n",
            "PARTICIPANT: 5\n"
          ],
          "name": "stdout"
        },
        {
          "output_type": "stream",
          "text": [
            "/usr/local/lib/python3.6/dist-packages/numpy/core/_asarray.py:83: VisibleDeprecationWarning: Creating an ndarray from ragged nested sequences (which is a list-or-tuple of lists-or-tuples-or ndarrays with different lengths or shapes) is deprecated. If you meant to do this, you must specify 'dtype=object' when creating the ndarray\n",
            "  return array(a, dtype, copy=False, order=order)\n",
            "/usr/local/lib/python3.6/dist-packages/numpy/core/_asarray.py:83: VisibleDeprecationWarning: Creating an ndarray from ragged nested sequences (which is a list-or-tuple of lists-or-tuples-or ndarrays with different lengths or shapes) is deprecated. If you meant to do this, you must specify 'dtype=object' when creating the ndarray\n",
            "  return array(a, dtype, copy=False, order=order)\n",
            "/usr/local/lib/python3.6/dist-packages/numpy/core/_asarray.py:83: VisibleDeprecationWarning: Creating an ndarray from ragged nested sequences (which is a list-or-tuple of lists-or-tuples-or ndarrays with different lengths or shapes) is deprecated. If you meant to do this, you must specify 'dtype=object' when creating the ndarray\n",
            "  return array(a, dtype, copy=False, order=order)\n",
            "/usr/local/lib/python3.6/dist-packages/numpy/core/_asarray.py:83: VisibleDeprecationWarning: Creating an ndarray from ragged nested sequences (which is a list-or-tuple of lists-or-tuples-or ndarrays with different lengths or shapes) is deprecated. If you meant to do this, you must specify 'dtype=object' when creating the ndarray\n",
            "  return array(a, dtype, copy=False, order=order)\n",
            "/usr/local/lib/python3.6/dist-packages/numpy/core/_asarray.py:83: VisibleDeprecationWarning: Creating an ndarray from ragged nested sequences (which is a list-or-tuple of lists-or-tuples-or ndarrays with different lengths or shapes) is deprecated. If you meant to do this, you must specify 'dtype=object' when creating the ndarray\n",
            "  return array(a, dtype, copy=False, order=order)\n"
          ],
          "name": "stderr"
        },
        {
          "output_type": "stream",
          "text": [
            "PARTICIPANT: 6\n",
            "PARTICIPANT: 7\n",
            "PARTICIPANT: 8\n",
            "PARTICIPANT: 9\n",
            "PARTICIPANT: 10\n"
          ],
          "name": "stdout"
        },
        {
          "output_type": "stream",
          "text": [
            "/usr/local/lib/python3.6/dist-packages/numpy/core/_asarray.py:83: VisibleDeprecationWarning: Creating an ndarray from ragged nested sequences (which is a list-or-tuple of lists-or-tuples-or ndarrays with different lengths or shapes) is deprecated. If you meant to do this, you must specify 'dtype=object' when creating the ndarray\n",
            "  return array(a, dtype, copy=False, order=order)\n",
            "/usr/local/lib/python3.6/dist-packages/numpy/core/_asarray.py:83: VisibleDeprecationWarning: Creating an ndarray from ragged nested sequences (which is a list-or-tuple of lists-or-tuples-or ndarrays with different lengths or shapes) is deprecated. If you meant to do this, you must specify 'dtype=object' when creating the ndarray\n",
            "  return array(a, dtype, copy=False, order=order)\n",
            "/usr/local/lib/python3.6/dist-packages/numpy/core/_asarray.py:83: VisibleDeprecationWarning: Creating an ndarray from ragged nested sequences (which is a list-or-tuple of lists-or-tuples-or ndarrays with different lengths or shapes) is deprecated. If you meant to do this, you must specify 'dtype=object' when creating the ndarray\n",
            "  return array(a, dtype, copy=False, order=order)\n",
            "/usr/local/lib/python3.6/dist-packages/numpy/core/_asarray.py:83: VisibleDeprecationWarning: Creating an ndarray from ragged nested sequences (which is a list-or-tuple of lists-or-tuples-or ndarrays with different lengths or shapes) is deprecated. If you meant to do this, you must specify 'dtype=object' when creating the ndarray\n",
            "  return array(a, dtype, copy=False, order=order)\n",
            "/usr/local/lib/python3.6/dist-packages/numpy/core/_asarray.py:83: VisibleDeprecationWarning: Creating an ndarray from ragged nested sequences (which is a list-or-tuple of lists-or-tuples-or ndarrays with different lengths or shapes) is deprecated. If you meant to do this, you must specify 'dtype=object' when creating the ndarray\n",
            "  return array(a, dtype, copy=False, order=order)\n"
          ],
          "name": "stderr"
        },
        {
          "output_type": "stream",
          "text": [
            "PARTICIPANT: 11\n",
            "PARTICIPANT: 12\n",
            "PARTICIPANT: 13\n",
            "PARTICIPANT: 14\n",
            "PARTICIPANT: 15\n"
          ],
          "name": "stdout"
        },
        {
          "output_type": "stream",
          "text": [
            "/usr/local/lib/python3.6/dist-packages/numpy/core/_asarray.py:83: VisibleDeprecationWarning: Creating an ndarray from ragged nested sequences (which is a list-or-tuple of lists-or-tuples-or ndarrays with different lengths or shapes) is deprecated. If you meant to do this, you must specify 'dtype=object' when creating the ndarray\n",
            "  return array(a, dtype, copy=False, order=order)\n",
            "/usr/local/lib/python3.6/dist-packages/numpy/core/_asarray.py:83: VisibleDeprecationWarning: Creating an ndarray from ragged nested sequences (which is a list-or-tuple of lists-or-tuples-or ndarrays with different lengths or shapes) is deprecated. If you meant to do this, you must specify 'dtype=object' when creating the ndarray\n",
            "  return array(a, dtype, copy=False, order=order)\n",
            "/usr/local/lib/python3.6/dist-packages/numpy/core/_asarray.py:83: VisibleDeprecationWarning: Creating an ndarray from ragged nested sequences (which is a list-or-tuple of lists-or-tuples-or ndarrays with different lengths or shapes) is deprecated. If you meant to do this, you must specify 'dtype=object' when creating the ndarray\n",
            "  return array(a, dtype, copy=False, order=order)\n",
            "/usr/local/lib/python3.6/dist-packages/numpy/core/_asarray.py:83: VisibleDeprecationWarning: Creating an ndarray from ragged nested sequences (which is a list-or-tuple of lists-or-tuples-or ndarrays with different lengths or shapes) is deprecated. If you meant to do this, you must specify 'dtype=object' when creating the ndarray\n",
            "  return array(a, dtype, copy=False, order=order)\n",
            "/usr/local/lib/python3.6/dist-packages/numpy/core/_asarray.py:83: VisibleDeprecationWarning: Creating an ndarray from ragged nested sequences (which is a list-or-tuple of lists-or-tuples-or ndarrays with different lengths or shapes) is deprecated. If you meant to do this, you must specify 'dtype=object' when creating the ndarray\n",
            "  return array(a, dtype, copy=False, order=order)\n"
          ],
          "name": "stderr"
        },
        {
          "output_type": "stream",
          "text": [
            "PARTICIPANT: 16\n"
          ],
          "name": "stdout"
        },
        {
          "output_type": "stream",
          "text": [
            "/usr/local/lib/python3.6/dist-packages/numpy/core/_asarray.py:83: VisibleDeprecationWarning: Creating an ndarray from ragged nested sequences (which is a list-or-tuple of lists-or-tuples-or ndarrays with different lengths or shapes) is deprecated. If you meant to do this, you must specify 'dtype=object' when creating the ndarray\n",
            "  return array(a, dtype, copy=False, order=order)\n"
          ],
          "name": "stderr"
        },
        {
          "output_type": "display_data",
          "data": {
            "image/png": "[encoded data removed]",
            "text/plain": [
              "<Figure size 432x288 with 1 Axes>"
            ]
          },
          "metadata": {
            "tags": [],
            "needs_background": "light"
          }
        },
        {
          "output_type": "display_data",
          "data": {
            "image/png": "[encoded data removed]",
            "text/plain": [
              "<Figure size 432x288 with 1 Axes>"
            ]
          },
          "metadata": {
            "tags": [],
            "needs_background": "light"
          }
        },
        {
          "output_type": "display_data",
          "data": {
            "image/png": "[encoded data removed]",
            "text/plain": [
              "<Figure size 432x288 with 1 Axes>"
            ]
          },
          "metadata": {
            "tags": [],
            "needs_background": "light"
          }
        },
        {
          "output_type": "display_data",
          "data": {
            "image/png": "[encoded data removed]",
            "text/plain": [
              "<Figure size 432x288 with 1 Axes>"
            ]
          },
          "metadata": {
            "tags": [],
            "needs_background": "light"
          }
        },
        {
          "output_type": "display_data",
          "data": {
            "image/png": "[encoded data removed]",
            "text/plain": [
              "<Figure size 432x288 with 1 Axes>"
            ]
          },
          "metadata": {
            "tags": [],
            "needs_background": "light"
          }
        },
        {
          "output_type": "display_data",
          "data": {
            "image/png": "[encoded data removed]",
            "text/plain": [
              "<Figure size 432x288 with 1 Axes>"
            ]
          },
          "metadata": {
            "tags": [],
            "needs_background": "light"
          }
        },
        {
          "output_type": "display_data",
          "data": {
            "image/png": "[encoded data removed]",
            "text/plain": [
              "<Figure size 432x288 with 1 Axes>"
            ]
          },
          "metadata": {
            "tags": [],
            "needs_background": "light"
          }
        },
        {
          "output_type": "display_data",
          "data": {
            "image/png": "[encoded data removed]",
            "text/plain": [
              "<Figure size 432x288 with 1 Axes>"
            ]
          },
          "metadata": {
            "tags": [],
            "needs_background": "light"
          }
        },
        {
          "output_type": "display_data",
          "data": {
            "image/png": "[encoded data removed]",
            "text/plain": [
              "<Figure size 432x288 with 1 Axes>"
            ]
          },
          "metadata": {
            "tags": [],
            "needs_background": "light"
          }
        },
        {
          "output_type": "display_data",
          "data": {
            "image/png": "[encoded data removed]",
            "text/plain": [
              "<Figure size 432x288 with 1 Axes>"
            ]
          },
          "metadata": {
            "tags": [],
            "needs_background": "light"
          }
        },
        {
          "output_type": "display_data",
          "data": {
            "image/png": "[encoded data removed]",
            "text/plain": [
              "<Figure size 432x288 with 1 Axes>"
            ]
          },
          "metadata": {
            "tags": [],
            "needs_background": "light"
          }
        },
        {
          "output_type": "display_data",
          "data": {
            "image/png": "[encoded data removed]",
            "text/plain": [
              "<Figure size 432x288 with 1 Axes>"
            ]
          },
          "metadata": {
            "tags": [],
            "needs_background": "light"
          }
        },
        {
          "output_type": "display_data",
          "data": {
            "image/png": "[encoded data removed]",
            "text/plain": [
              "<Figure size 432x288 with 1 Axes>"
            ]
          },
          "metadata": {
            "tags": [],
            "needs_background": "light"
          }
        },
        {
          "output_type": "display_data",
          "data": {
            "image/png": "[encoded data removed]",
            "text/plain": [
              "<Figure size 432x288 with 1 Axes>"
            ]
          },
          "metadata": {
            "tags": [],
            "needs_background": "light"
          }
        },
        {
          "output_type": "display_data",
          "data": {
            "image/png": "[encoded data removed]",
            "text/plain": [
              "<Figure size 432x288 with 1 Axes>"
            ]
          },
          "metadata": {
            "tags": [],
            "needs_background": "light"
          }
        },
        {
          "output_type": "display_data",
          "data": {
            "image/png": "[encoded data removed]",
            "text/plain": [
              "<Figure size 432x288 with 1 Axes>"
            ]
          },
          "metadata": {
            "tags": [],
            "needs_background": "light"
          }
        }
      ]
    },
    {
      "cell_type": "markdown",
      "metadata": {
        "id": "sPx_YKm7LLFz"
      },
      "source": [
        "## Selective analysis based on participant accuracy\n",
        "\n",
        "Now we only analyse the data for participants who had an score above 85%"
      ]
    },
    {
      "cell_type": "code",
      "metadata": {
        "id": "u7LSvIHwHf5y"
      },
      "source": [
        "choseen_participants_ids=[0,3,9,10,11,15]\n",
        "choosen_participants_df=[participant_dfs[id] for id in choseen_participants_ids]\n",
        "concatenated_dataframes_selected = pd.concat(choosen_participants_df, axis=0)\n",
        "data_analysis_fixiation_count_df=concatenated_dataframes_selected[[\"aoi\",\"MediaName\",\"count\",\"arousal\"]]\n",
        "data_analysis_fixiation_count_df=data_analysis_fixiation_count_df.drop_duplicates()\n",
        "mod = ols(\"count~arousal\",data=data_analysis_fixiation_count_df).fit()\n",
        "aov = sm.stats.anova_lm(mod, type=2)"
      ],
      "execution_count": null,
      "outputs": []
    },
    {
      "cell_type": "code",
      "metadata": {
        "colab": {
          "base_uri": "https://localhost:8080/",
          "height": 106
        },
        "id": "yhuVdyJWLlBE",
        "outputId": "426e3d35-0fa7-4fb2-be00-d0ff4dbdb748"
      },
      "source": [
        "aov"
      ],
      "execution_count": null,
      "outputs": [
        {
          "output_type": "execute_result",
          "data": {
            "text/html": [
              "<div>\n",
              "<style scoped>\n",
              "    .dataframe tbody tr th:only-of-type {\n",
              "        vertical-align: middle;\n",
              "    }\n",
              "\n",
              "    .dataframe tbody tr th {\n",
              "        vertical-align: top;\n",
              "    }\n",
              "\n",
              "    .dataframe thead th {\n",
              "        text-align: right;\n",
              "    }\n",
              "</style>\n",
              "<table border=\"1\" class=\"dataframe\">\n",
              "  <thead>\n",
              "    <tr style=\"text-align: right;\">\n",
              "      <th></th>\n",
              "      <th>df</th>\n",
              "      <th>sum_sq</th>\n",
              "      <th>mean_sq</th>\n",
              "      <th>F</th>\n",
              "      <th>PR(&gt;F)</th>\n",
              "    </tr>\n",
              "  </thead>\n",
              "  <tbody>\n",
              "    <tr>\n",
              "      <th>arousal</th>\n",
              "      <td>2.0</td>\n",
              "      <td>183.321831</td>\n",
              "      <td>91.660916</td>\n",
              "      <td>1.389116</td>\n",
              "      <td>0.249753</td>\n",
              "    </tr>\n",
              "    <tr>\n",
              "      <th>Residual</th>\n",
              "      <td>1050.0</td>\n",
              "      <td>69284.343886</td>\n",
              "      <td>65.985089</td>\n",
              "      <td>NaN</td>\n",
              "      <td>NaN</td>\n",
              "    </tr>\n",
              "  </tbody>\n",
              "</table>\n",
              "</div>"
            ],
            "text/plain": [
              "              df        sum_sq    mean_sq         F    PR(>F)\n",
              "arousal      2.0    183.321831  91.660916  1.389116  0.249753\n",
              "Residual  1050.0  69284.343886  65.985089       NaN       NaN"
            ]
          },
          "metadata": {
            "tags": []
          },
          "execution_count": 30
        }
      ]
    },
    {
      "cell_type": "code",
      "metadata": {
        "colab": {
          "base_uri": "https://localhost:8080/",
          "height": 371
        },
        "id": "bbj3nnEcLmyW",
        "outputId": "e505208c-7fa2-4434-9058-9d0f5568ac81"
      },
      "source": [
        "data_analysis_fixiation_count_df.boxplot(\"count\", by=\"arousal\")"
      ],
      "execution_count": null,
      "outputs": [
        {
          "output_type": "stream",
          "text": [
            "/usr/local/lib/python3.6/dist-packages/numpy/core/_asarray.py:83: VisibleDeprecationWarning: Creating an ndarray from ragged nested sequences (which is a list-or-tuple of lists-or-tuples-or ndarrays with different lengths or shapes) is deprecated. If you meant to do this, you must specify 'dtype=object' when creating the ndarray\n",
            "  return array(a, dtype, copy=False, order=order)\n"
          ],
          "name": "stderr"
        },
        {
          "output_type": "execute_result",
          "data": {
            "text/plain": [
              "<matplotlib.axes._subplots.AxesSubplot at 0x7f3cfeed31d0>"
            ]
          },
          "metadata": {
            "tags": []
          },
          "execution_count": 31
        },
        {
          "output_type": "display_data",
          "data": {
            "image/png": "[encoded data removed]",
            "text/plain": [
              "<Figure size 432x288 with 1 Axes>"
            ]
          },
          "metadata": {
            "tags": [],
            "needs_background": "light"
          }
        }
      ]
    },
    {
      "cell_type": "code",
      "metadata": {
        "id": "uNimrwCUeHeU"
      },
      "source": [],
      "execution_count": null,
      "outputs": []
    },
    {
      "cell_type": "markdown",
      "metadata": {
        "id": "bcszhPtCG_wt"
      },
      "source": [
        "## Probability of Rereading\n"
      ]
    },
    {
      "cell_type": "code",
      "metadata": {
        "colab": {
          "base_uri": "https://localhost:8080/",
          "height": 590
        },
        "id": "lKRHMsXvI4xf",
        "outputId": "941de2e1-816f-4fe9-d80a-09dbd61e70cb"
      },
      "source": [
        "participant_dfs[0].sort_values(by=['FixationIndex'])"
      ],
      "execution_count": null,
      "outputs": [
        {
          "output_type": "execute_result",
          "data": {
            "text/html": [
              "<div>\n",
              "<style scoped>\n",
              "    .dataframe tbody tr th:only-of-type {\n",
              "        vertical-align: middle;\n",
              "    }\n",
              "\n",
              "    .dataframe tbody tr th {\n",
              "        vertical-align: top;\n",
              "    }\n",
              "\n",
              "    .dataframe thead th {\n",
              "        text-align: right;\n",
              "    }\n",
              "</style>\n",
              "<table border=\"1\" class=\"dataframe\">\n",
              "  <thead>\n",
              "    <tr style=\"text-align: right;\">\n",
              "      <th></th>\n",
              "      <th>aoi</th>\n",
              "      <th>MediaName</th>\n",
              "      <th>count</th>\n",
              "      <th>NormalizedGazeDuration_x</th>\n",
              "      <th>arousal</th>\n",
              "      <th>GazeEventDuration</th>\n",
              "      <th>GazeEventType</th>\n",
              "      <th>ParticipantName</th>\n",
              "      <th>FixationIndex</th>\n",
              "      <th>ZeroMeanGazeDuration</th>\n",
              "      <th>NormalizedGazeDuration_y</th>\n",
              "    </tr>\n",
              "  </thead>\n",
              "  <tbody>\n",
              "    <tr>\n",
              "      <th>153</th>\n",
              "      <td>AOI[Rectangle 2]Hit</td>\n",
              "      <td>Text-1.png</td>\n",
              "      <td>15</td>\n",
              "      <td>0.410219</td>\n",
              "      <td>L</td>\n",
              "      <td>150</td>\n",
              "      <td>Fixation</td>\n",
              "      <td>P01</td>\n",
              "      <td>163.0</td>\n",
              "      <td>-23.050279</td>\n",
              "      <td>0.302920</td>\n",
              "    </tr>\n",
              "    <tr>\n",
              "      <th>154</th>\n",
              "      <td>AOI[Rectangle 2]Hit</td>\n",
              "      <td>Text-1.png</td>\n",
              "      <td>15</td>\n",
              "      <td>0.410219</td>\n",
              "      <td>L</td>\n",
              "      <td>183</td>\n",
              "      <td>Fixation</td>\n",
              "      <td>P01</td>\n",
              "      <td>166.0</td>\n",
              "      <td>9.949721</td>\n",
              "      <td>0.423358</td>\n",
              "    </tr>\n",
              "    <tr>\n",
              "      <th>155</th>\n",
              "      <td>AOI[Rectangle 2]Hit</td>\n",
              "      <td>Text-1.png</td>\n",
              "      <td>15</td>\n",
              "      <td>0.410219</td>\n",
              "      <td>L</td>\n",
              "      <td>175</td>\n",
              "      <td>Fixation</td>\n",
              "      <td>P01</td>\n",
              "      <td>167.0</td>\n",
              "      <td>1.949721</td>\n",
              "      <td>0.394161</td>\n",
              "    </tr>\n",
              "    <tr>\n",
              "      <th>156</th>\n",
              "      <td>AOI[Rectangle 2]Hit</td>\n",
              "      <td>Text-1.png</td>\n",
              "      <td>15</td>\n",
              "      <td>0.410219</td>\n",
              "      <td>L</td>\n",
              "      <td>233</td>\n",
              "      <td>Fixation</td>\n",
              "      <td>P01</td>\n",
              "      <td>168.0</td>\n",
              "      <td>59.949721</td>\n",
              "      <td>0.605839</td>\n",
              "    </tr>\n",
              "    <tr>\n",
              "      <th>157</th>\n",
              "      <td>AOI[Rectangle 2]Hit</td>\n",
              "      <td>Text-1.png</td>\n",
              "      <td>15</td>\n",
              "      <td>0.410219</td>\n",
              "      <td>L</td>\n",
              "      <td>167</td>\n",
              "      <td>Fixation</td>\n",
              "      <td>P01</td>\n",
              "      <td>169.0</td>\n",
              "      <td>-6.050279</td>\n",
              "      <td>0.364964</td>\n",
              "    </tr>\n",
              "    <tr>\n",
              "      <th>...</th>\n",
              "      <td>...</td>\n",
              "      <td>...</td>\n",
              "      <td>...</td>\n",
              "      <td>...</td>\n",
              "      <td>...</td>\n",
              "      <td>...</td>\n",
              "      <td>...</td>\n",
              "      <td>...</td>\n",
              "      <td>...</td>\n",
              "      <td>...</td>\n",
              "      <td>...</td>\n",
              "    </tr>\n",
              "    <tr>\n",
              "      <th>1771</th>\n",
              "      <td>AOI[Rectangle 6]Hit</td>\n",
              "      <td>Text-5.png</td>\n",
              "      <td>14</td>\n",
              "      <td>0.402503</td>\n",
              "      <td>M</td>\n",
              "      <td>183</td>\n",
              "      <td>Fixation</td>\n",
              "      <td>P01</td>\n",
              "      <td>3591.0</td>\n",
              "      <td>9.949721</td>\n",
              "      <td>0.423358</td>\n",
              "    </tr>\n",
              "    <tr>\n",
              "      <th>1772</th>\n",
              "      <td>AOI[Rectangle 6]Hit</td>\n",
              "      <td>Text-5.png</td>\n",
              "      <td>14</td>\n",
              "      <td>0.402503</td>\n",
              "      <td>M</td>\n",
              "      <td>233</td>\n",
              "      <td>Fixation</td>\n",
              "      <td>P01</td>\n",
              "      <td>3592.0</td>\n",
              "      <td>59.949721</td>\n",
              "      <td>0.605839</td>\n",
              "    </tr>\n",
              "    <tr>\n",
              "      <th>1773</th>\n",
              "      <td>AOI[Rectangle 6]Hit</td>\n",
              "      <td>Text-5.png</td>\n",
              "      <td>14</td>\n",
              "      <td>0.402503</td>\n",
              "      <td>M</td>\n",
              "      <td>242</td>\n",
              "      <td>Fixation</td>\n",
              "      <td>P01</td>\n",
              "      <td>3593.0</td>\n",
              "      <td>68.949721</td>\n",
              "      <td>0.638686</td>\n",
              "    </tr>\n",
              "    <tr>\n",
              "      <th>942</th>\n",
              "      <td>AOI[Rectangle 3]Hit</td>\n",
              "      <td>Text-5.png</td>\n",
              "      <td>14</td>\n",
              "      <td>0.432742</td>\n",
              "      <td>M</td>\n",
              "      <td>67</td>\n",
              "      <td>Fixation</td>\n",
              "      <td>P01</td>\n",
              "      <td>3594.0</td>\n",
              "      <td>-106.050279</td>\n",
              "      <td>0.000000</td>\n",
              "    </tr>\n",
              "    <tr>\n",
              "      <th>632</th>\n",
              "      <td>AOI[Rectangle 2]Hit</td>\n",
              "      <td>Text-5.png</td>\n",
              "      <td>32</td>\n",
              "      <td>0.294252</td>\n",
              "      <td>M</td>\n",
              "      <td>167</td>\n",
              "      <td>Fixation</td>\n",
              "      <td>P01</td>\n",
              "      <td>3596.0</td>\n",
              "      <td>-6.050279</td>\n",
              "      <td>0.364964</td>\n",
              "    </tr>\n",
              "  </tbody>\n",
              "</table>\n",
              "<p>2327 rows × 11 columns</p>\n",
              "</div>"
            ],
            "text/plain": [
              "                      aoi  ... NormalizedGazeDuration_y\n",
              "153   AOI[Rectangle 2]Hit  ...                 0.302920\n",
              "154   AOI[Rectangle 2]Hit  ...                 0.423358\n",
              "155   AOI[Rectangle 2]Hit  ...                 0.394161\n",
              "156   AOI[Rectangle 2]Hit  ...                 0.605839\n",
              "157   AOI[Rectangle 2]Hit  ...                 0.364964\n",
              "...                   ...  ...                      ...\n",
              "1771  AOI[Rectangle 6]Hit  ...                 0.423358\n",
              "1772  AOI[Rectangle 6]Hit  ...                 0.605839\n",
              "1773  AOI[Rectangle 6]Hit  ...                 0.638686\n",
              "942   AOI[Rectangle 3]Hit  ...                 0.000000\n",
              "632   AOI[Rectangle 2]Hit  ...                 0.364964\n",
              "\n",
              "[2327 rows x 11 columns]"
            ]
          },
          "metadata": {
            "tags": []
          },
          "execution_count": 32
        }
      ]
    },
    {
      "cell_type": "code",
      "metadata": {
        "id": "pelSSYZRr3we"
      },
      "source": [
        "def makeRereadColumn(df):\n",
        "  df=df.sort_values(by=['FixationIndex'])\n",
        "  visited=[]\n",
        "  revisited=[]\n",
        "  reread_column=[]\n",
        "  prev_aoi=''\n",
        "  for index,row in df.iterrows():\n",
        "    media=row[\"MediaName\"]\n",
        "    aoi=row[\"aoi\"]\n",
        "    if media+aoi in visited:\n",
        "      if media+aoi in revisited:\n",
        "        reread_column.append(1)\n",
        "      else:\n",
        "        if media+aoi==prev_aoi:\n",
        "          reread_column.append(0)\n",
        "        else:\n",
        "          prev_aoi_index=int(re.findall(r'\\d+', prev_aoi)[0])\n",
        "          curr_aoi_index=int(re.findall(r'\\d+', aoi)[0])\n",
        "          if abs(prev_aoi_index-curr_aoi_index)>1:\n",
        "            reread_column.append(1)\n",
        "            revisited.append(media+aoi)\n",
        "          else:\n",
        "            reread_column.append(0)\n",
        "    else:\n",
        "      reread_column.append(0)\n",
        "      visited.append(media+aoi)\n",
        "    prev_aoi=media+aoi\n",
        "  df[\"revisited\"]=reread_column\n",
        "  return df\n",
        "\n",
        "\n"
      ],
      "execution_count": null,
      "outputs": []
    },
    {
      "cell_type": "code",
      "metadata": {
        "id": "c5XounflOBz1"
      },
      "source": [
        "testdf=participant_dfs[0][[\"aoi\",\"MediaName\",\"count\",\"arousal\",\"FixationIndex\"]].drop_duplicates()"
      ],
      "execution_count": null,
      "outputs": []
    },
    {
      "cell_type": "code",
      "metadata": {
        "id": "IBc5nGSBORu-"
      },
      "source": [
        "ans=makeRereadColumn(testdf)"
      ],
      "execution_count": null,
      "outputs": []
    },
    {
      "cell_type": "code",
      "metadata": {
        "id": "I1vbfuQpOXN-"
      },
      "source": [
        "participants_rereaded=[]\n",
        "for participantdf in participant_dfs:\n",
        "  testdf=participantdf[[\"aoi\",\"MediaName\",\"count\",\"arousal\",\"FixationIndex\"]].drop_duplicates()\n",
        "  ans=makeRereadColumn(testdf)\n",
        "  left=ans.groupby([\"aoi\",\"MediaName\"],as_index=False)[\"revisited\"].sum()\n",
        "  right=participantdf[[\"aoi\",\"MediaName\",\"count\",\"arousal\"]]\n",
        "  merged_inner=pd.merge(left=left, right=right, left_on=[\"aoi\",\"MediaName\"], right_on=[\"aoi\",\"MediaName\"]).drop_duplicates()\n",
        "  participants_rereaded.append(merged_inner)"
      ],
      "execution_count": null,
      "outputs": []
    },
    {
      "cell_type": "code",
      "metadata": {
        "id": "OJ5fcPYHO5RZ"
      },
      "source": [
        "concatenated_rereaded = pd.concat(participants_rereaded, axis=0)"
      ],
      "execution_count": null,
      "outputs": []
    },
    {
      "cell_type": "code",
      "metadata": {
        "id": "SxF03AjCRoNJ"
      },
      "source": [
        "concatenated_rereaded[\"rereadprob\"]=concatenated_rereaded[\"revisited\"]/concatenated_rereaded[\"count\"]"
      ],
      "execution_count": null,
      "outputs": []
    },
    {
      "cell_type": "code",
      "metadata": {
        "colab": {
          "base_uri": "https://localhost:8080/",
          "height": 195
        },
        "id": "qMOwuLjPotVm",
        "outputId": "f054d971-51c7-439d-8b3e-a46a39249cba"
      },
      "source": [
        "concatenated_rereaded.head()"
      ],
      "execution_count": null,
      "outputs": [
        {
          "output_type": "execute_result",
          "data": {
            "text/html": [
              "<div>\n",
              "<style scoped>\n",
              "    .dataframe tbody tr th:only-of-type {\n",
              "        vertical-align: middle;\n",
              "    }\n",
              "\n",
              "    .dataframe tbody tr th {\n",
              "        vertical-align: top;\n",
              "    }\n",
              "\n",
              "    .dataframe thead th {\n",
              "        text-align: right;\n",
              "    }\n",
              "</style>\n",
              "<table border=\"1\" class=\"dataframe\">\n",
              "  <thead>\n",
              "    <tr style=\"text-align: right;\">\n",
              "      <th></th>\n",
              "      <th>aoi</th>\n",
              "      <th>MediaName</th>\n",
              "      <th>revisited</th>\n",
              "      <th>count</th>\n",
              "      <th>arousal</th>\n",
              "      <th>rereadprob</th>\n",
              "    </tr>\n",
              "  </thead>\n",
              "  <tbody>\n",
              "    <tr>\n",
              "      <th>0</th>\n",
              "      <td>AOI[Rectangle 10]Hit</td>\n",
              "      <td>Text-11.png</td>\n",
              "      <td>0</td>\n",
              "      <td>7</td>\n",
              "      <td>L</td>\n",
              "      <td>0.000000</td>\n",
              "    </tr>\n",
              "    <tr>\n",
              "      <th>7</th>\n",
              "      <td>AOI[Rectangle 10]Hit</td>\n",
              "      <td>Text-14.png</td>\n",
              "      <td>5</td>\n",
              "      <td>6</td>\n",
              "      <td>L</td>\n",
              "      <td>0.833333</td>\n",
              "    </tr>\n",
              "    <tr>\n",
              "      <th>13</th>\n",
              "      <td>AOI[Rectangle 10]Hit</td>\n",
              "      <td>Text-16.png</td>\n",
              "      <td>3</td>\n",
              "      <td>4</td>\n",
              "      <td>H</td>\n",
              "      <td>0.750000</td>\n",
              "    </tr>\n",
              "    <tr>\n",
              "      <th>17</th>\n",
              "      <td>AOI[Rectangle 10]Hit</td>\n",
              "      <td>Text-18.png</td>\n",
              "      <td>1</td>\n",
              "      <td>7</td>\n",
              "      <td>M</td>\n",
              "      <td>0.142857</td>\n",
              "    </tr>\n",
              "    <tr>\n",
              "      <th>24</th>\n",
              "      <td>AOI[Rectangle 10]Hit</td>\n",
              "      <td>Text-19.png</td>\n",
              "      <td>0</td>\n",
              "      <td>8</td>\n",
              "      <td>L</td>\n",
              "      <td>0.000000</td>\n",
              "    </tr>\n",
              "  </tbody>\n",
              "</table>\n",
              "</div>"
            ],
            "text/plain": [
              "                     aoi    MediaName  revisited  count arousal  rereadprob\n",
              "0   AOI[Rectangle 10]Hit  Text-11.png          0      7       L    0.000000\n",
              "7   AOI[Rectangle 10]Hit  Text-14.png          5      6       L    0.833333\n",
              "13  AOI[Rectangle 10]Hit  Text-16.png          3      4       H    0.750000\n",
              "17  AOI[Rectangle 10]Hit  Text-18.png          1      7       M    0.142857\n",
              "24  AOI[Rectangle 10]Hit  Text-19.png          0      8       L    0.000000"
            ]
          },
          "metadata": {
            "tags": []
          },
          "execution_count": 39
        }
      ]
    },
    {
      "cell_type": "code",
      "metadata": {
        "colab": {
          "base_uri": "https://localhost:8080/",
          "height": 106
        },
        "id": "NG_zQYQppGW7",
        "outputId": "4beae8b7-bdc3-4bad-ac01-8df222f38f5b"
      },
      "source": [
        "mod = ols(\"rereadprob~arousal\",data=concatenated_rereaded).fit()\n",
        "aov = sm.stats.anova_lm(mod, type=2)\n",
        "aov"
      ],
      "execution_count": null,
      "outputs": [
        {
          "output_type": "execute_result",
          "data": {
            "text/html": [
              "<div>\n",
              "<style scoped>\n",
              "    .dataframe tbody tr th:only-of-type {\n",
              "        vertical-align: middle;\n",
              "    }\n",
              "\n",
              "    .dataframe tbody tr th {\n",
              "        vertical-align: top;\n",
              "    }\n",
              "\n",
              "    .dataframe thead th {\n",
              "        text-align: right;\n",
              "    }\n",
              "</style>\n",
              "<table border=\"1\" class=\"dataframe\">\n",
              "  <thead>\n",
              "    <tr style=\"text-align: right;\">\n",
              "      <th></th>\n",
              "      <th>df</th>\n",
              "      <th>sum_sq</th>\n",
              "      <th>mean_sq</th>\n",
              "      <th>F</th>\n",
              "      <th>PR(&gt;F)</th>\n",
              "    </tr>\n",
              "  </thead>\n",
              "  <tbody>\n",
              "    <tr>\n",
              "      <th>arousal</th>\n",
              "      <td>2.0</td>\n",
              "      <td>1.140402</td>\n",
              "      <td>0.570201</td>\n",
              "      <td>3.979679</td>\n",
              "      <td>0.018797</td>\n",
              "    </tr>\n",
              "    <tr>\n",
              "      <th>Residual</th>\n",
              "      <td>2823.0</td>\n",
              "      <td>404.474315</td>\n",
              "      <td>0.143278</td>\n",
              "      <td>NaN</td>\n",
              "      <td>NaN</td>\n",
              "    </tr>\n",
              "  </tbody>\n",
              "</table>\n",
              "</div>"
            ],
            "text/plain": [
              "              df      sum_sq   mean_sq         F    PR(>F)\n",
              "arousal      2.0    1.140402  0.570201  3.979679  0.018797\n",
              "Residual  2823.0  404.474315  0.143278       NaN       NaN"
            ]
          },
          "metadata": {
            "tags": []
          },
          "execution_count": 40
        }
      ]
    },
    {
      "cell_type": "code",
      "metadata": {
        "colab": {
          "base_uri": "https://localhost:8080/",
          "height": 371
        },
        "id": "xoKyHAtOpNq7",
        "outputId": "acc4a233-f472-43ca-b32c-4b45e33bc599"
      },
      "source": [
        "concatenated_rereaded.boxplot(\"rereadprob\", by=\"arousal\")"
      ],
      "execution_count": null,
      "outputs": [
        {
          "output_type": "stream",
          "text": [
            "/usr/local/lib/python3.6/dist-packages/numpy/core/_asarray.py:83: VisibleDeprecationWarning: Creating an ndarray from ragged nested sequences (which is a list-or-tuple of lists-or-tuples-or ndarrays with different lengths or shapes) is deprecated. If you meant to do this, you must specify 'dtype=object' when creating the ndarray\n",
            "  return array(a, dtype, copy=False, order=order)\n"
          ],
          "name": "stderr"
        },
        {
          "output_type": "execute_result",
          "data": {
            "text/plain": [
              "<matplotlib.axes._subplots.AxesSubplot at 0x7f3cc8a9c400>"
            ]
          },
          "metadata": {
            "tags": []
          },
          "execution_count": 41
        },
        {
          "output_type": "display_data",
          "data": {
            "image/png": "[encoded data removed]",
            "text/plain": [
              "<Figure size 432x288 with 1 Axes>"
            ]
          },
          "metadata": {
            "tags": [],
            "needs_background": "light"
          }
        }
      ]
    },
    {
      "cell_type": "code",
      "metadata": {
        "id": "nA3cRpt3suBO"
      },
      "source": [
        "choseen_participants_ids=[0,3,9,10,11,15]\n",
        "choosen_participants_df=[participants_rereaded[id] for id in choseen_participants_ids]\n",
        "concatenated_rereaded = pd.concat(choosen_participants_df, axis=0)\n",
        "concatenated_rereaded[\"rereadprob\"]=concatenated_rereaded[\"revisited\"]/concatenated_rereaded[\"count\"]"
      ],
      "execution_count": null,
      "outputs": []
    },
    {
      "cell_type": "code",
      "metadata": {
        "colab": {
          "base_uri": "https://localhost:8080/",
          "height": 106
        },
        "id": "-j9dd_NmtNvU",
        "outputId": "cf70d379-3d61-4d00-94bb-a541bbc4d465"
      },
      "source": [
        "mod = ols(\"rereadprob~arousal\",data=concatenated_rereaded).fit()\n",
        "aov = sm.stats.anova_lm(mod, type=2)\n",
        "aov"
      ],
      "execution_count": null,
      "outputs": [
        {
          "output_type": "execute_result",
          "data": {
            "text/html": [
              "<div>\n",
              "<style scoped>\n",
              "    .dataframe tbody tr th:only-of-type {\n",
              "        vertical-align: middle;\n",
              "    }\n",
              "\n",
              "    .dataframe tbody tr th {\n",
              "        vertical-align: top;\n",
              "    }\n",
              "\n",
              "    .dataframe thead th {\n",
              "        text-align: right;\n",
              "    }\n",
              "</style>\n",
              "<table border=\"1\" class=\"dataframe\">\n",
              "  <thead>\n",
              "    <tr style=\"text-align: right;\">\n",
              "      <th></th>\n",
              "      <th>df</th>\n",
              "      <th>sum_sq</th>\n",
              "      <th>mean_sq</th>\n",
              "      <th>F</th>\n",
              "      <th>PR(&gt;F)</th>\n",
              "    </tr>\n",
              "  </thead>\n",
              "  <tbody>\n",
              "    <tr>\n",
              "      <th>arousal</th>\n",
              "      <td>2.0</td>\n",
              "      <td>1.008765</td>\n",
              "      <td>0.504382</td>\n",
              "      <td>3.620773</td>\n",
              "      <td>0.027085</td>\n",
              "    </tr>\n",
              "    <tr>\n",
              "      <th>Residual</th>\n",
              "      <td>1089.0</td>\n",
              "      <td>151.700315</td>\n",
              "      <td>0.139302</td>\n",
              "      <td>NaN</td>\n",
              "      <td>NaN</td>\n",
              "    </tr>\n",
              "  </tbody>\n",
              "</table>\n",
              "</div>"
            ],
            "text/plain": [
              "              df      sum_sq   mean_sq         F    PR(>F)\n",
              "arousal      2.0    1.008765  0.504382  3.620773  0.027085\n",
              "Residual  1089.0  151.700315  0.139302       NaN       NaN"
            ]
          },
          "metadata": {
            "tags": []
          },
          "execution_count": 43
        }
      ]
    },
    {
      "cell_type": "code",
      "metadata": {
        "colab": {
          "base_uri": "https://localhost:8080/",
          "height": 371
        },
        "id": "HobzTvN4tRLk",
        "outputId": "8e7af72e-d067-4595-a7fa-705cc12c8fd7"
      },
      "source": [
        "concatenated_rereaded.boxplot(\"rereadprob\", by=\"arousal\")"
      ],
      "execution_count": null,
      "outputs": [
        {
          "output_type": "stream",
          "text": [
            "/usr/local/lib/python3.6/dist-packages/numpy/core/_asarray.py:83: VisibleDeprecationWarning: Creating an ndarray from ragged nested sequences (which is a list-or-tuple of lists-or-tuples-or ndarrays with different lengths or shapes) is deprecated. If you meant to do this, you must specify 'dtype=object' when creating the ndarray\n",
            "  return array(a, dtype, copy=False, order=order)\n"
          ],
          "name": "stderr"
        },
        {
          "output_type": "execute_result",
          "data": {
            "text/plain": [
              "<matplotlib.axes._subplots.AxesSubplot at 0x7f3cffdf62e8>"
            ]
          },
          "metadata": {
            "tags": []
          },
          "execution_count": 44
        },
        {
          "output_type": "display_data",
          "data": {
            "image/png": "[encoded data removed]",
            "text/plain": [
              "<Figure size 432x288 with 1 Axes>"
            ]
          },
          "metadata": {
            "tags": [],
            "needs_background": "light"
          }
        }
      ]
    },
    {
      "cell_type": "markdown",
      "metadata": {
        "id": "lgF3NeAHoryu"
      },
      "source": []
    },
    {
      "cell_type": "code",
      "metadata": {
        "id": "RVAH9Xksm9qJ"
      },
      "source": [
        "import scipy.stats as stats"
      ],
      "execution_count": null,
      "outputs": []
    },
    {
      "cell_type": "code",
      "metadata": {
        "colab": {
          "base_uri": "https://localhost:8080/"
        },
        "id": "JA3DlFf3-dRb",
        "outputId": "ab9567a5-23ff-420d-cda6-952150f56708"
      },
      "source": [
        "stats.ttest_ind(concatenated_rereaded['rereadprob'][concatenated_rereaded['arousal'] == 'H'], concatenated_rereaded['rereadprob'][concatenated_rereaded['arousal'] == 'L'])"
      ],
      "execution_count": null,
      "outputs": [
        {
          "output_type": "execute_result",
          "data": {
            "text/plain": [
              "Ttest_indResult(statistic=2.038374880679349, pvalue=0.041870379314912894)"
            ]
          },
          "metadata": {
            "tags": []
          },
          "execution_count": 50
        }
      ]
    },
    {
      "cell_type": "code",
      "metadata": {
        "colab": {
          "base_uri": "https://localhost:8080/"
        },
        "id": "R1iDRt4m--Pm",
        "outputId": "e01032fb-5ce2-4e6b-d8ec-daa1927cd6ad"
      },
      "source": [
        "stats.ttest_ind(concatenated_rereaded['rereadprob'][concatenated_rereaded['arousal'] == 'H'], concatenated_rereaded['rereadprob'][concatenated_rereaded['arousal'] == 'M'])"
      ],
      "execution_count": null,
      "outputs": [
        {
          "output_type": "execute_result",
          "data": {
            "text/plain": [
              "Ttest_indResult(statistic=2.5110124239265477, pvalue=0.01225499843935643)"
            ]
          },
          "metadata": {
            "tags": []
          },
          "execution_count": 51
        }
      ]
    },
    {
      "cell_type": "code",
      "metadata": {
        "colab": {
          "base_uri": "https://localhost:8080/"
        },
        "id": "uJC0Fz9FBOHM",
        "outputId": "6cd19116-c384-4ed7-a488-77f5272de1f1"
      },
      "source": [
        "stats.ttest_ind(concatenated_rereaded['rereadprob'][concatenated_rereaded['arousal'] == 'M'], concatenated_rereaded['rereadprob'][concatenated_rereaded['arousal'] == 'L'])"
      ],
      "execution_count": null,
      "outputs": [
        {
          "output_type": "execute_result",
          "data": {
            "text/plain": [
              "Ttest_indResult(statistic=-0.5284797614897355, pvalue=0.5973294721844784)"
            ]
          },
          "metadata": {
            "tags": []
          },
          "execution_count": 52
        }
      ]
    },
    {
      "cell_type": "code",
      "metadata": {
        "id": "dSR6-E9ECsEt"
      },
      "source": [
        "concatenated_rereaded = pd.concat(participants_rereaded, axis=0)\n",
        "concatenated_rereaded[\"rereadprob\"]=concatenated_rereaded[\"revisited\"]/concatenated_rereaded[\"count\"]"
      ],
      "execution_count": null,
      "outputs": []
    },
    {
      "cell_type": "code",
      "metadata": {
        "colab": {
          "base_uri": "https://localhost:8080/"
        },
        "id": "P_GbTCSrQKX5",
        "outputId": "6e825f0e-8bf1-4d1c-bbc2-1a06b7a6263d"
      },
      "source": [
        "stats.ttest_ind(concatenated_rereaded['rereadprob'][concatenated_rereaded['arousal'] == 'H'], concatenated_rereaded['rereadprob'][concatenated_rereaded['arousal'] == 'L'])"
      ],
      "execution_count": null,
      "outputs": [
        {
          "output_type": "execute_result",
          "data": {
            "text/plain": [
              "Ttest_indResult(statistic=1.4112533829965002, pvalue=0.15833511484177792)"
            ]
          },
          "metadata": {
            "tags": []
          },
          "execution_count": 57
        }
      ]
    },
    {
      "cell_type": "code",
      "metadata": {
        "colab": {
          "base_uri": "https://localhost:8080/"
        },
        "id": "SJqH4qk5QNrO",
        "outputId": "963d203f-fb06-4f92-da09-568397791431"
      },
      "source": [
        "stats.ttest_ind(concatenated_rereaded['rereadprob'][concatenated_rereaded['arousal'] == 'H'], concatenated_rereaded['rereadprob'][concatenated_rereaded['arousal'] == 'M'])"
      ],
      "execution_count": null,
      "outputs": [
        {
          "output_type": "execute_result",
          "data": {
            "text/plain": [
              "Ttest_indResult(statistic=2.793346616943517, pvalue=0.005269552946069286)"
            ]
          },
          "metadata": {
            "tags": []
          },
          "execution_count": 58
        }
      ]
    },
    {
      "cell_type": "code",
      "metadata": {
        "id": "pyfM2g1NR2Oh",
        "colab": {
          "base_uri": "https://localhost:8080/"
        },
        "outputId": "19db0d23-4329-40dd-ec71-da3bbd7ffdfd"
      },
      "source": [
        "stats.ttest_ind(concatenated_rereaded['rereadprob'][concatenated_rereaded['arousal'] == 'L'], concatenated_rereaded['rereadprob'][concatenated_rereaded['arousal'] == 'M'])"
      ],
      "execution_count": null,
      "outputs": [
        {
          "output_type": "execute_result",
          "data": {
            "text/plain": [
              "Ttest_indResult(statistic=1.4309887467711944, pvalue=0.15259902077721346)"
            ]
          },
          "metadata": {
            "tags": []
          },
          "execution_count": 61
        }
      ]
    },
    {
      "cell_type": "code",
      "metadata": {
        "id": "Bpy2RnziR447"
      },
      "source": [],
      "execution_count": null,
      "outputs": []
    }
  ]
}